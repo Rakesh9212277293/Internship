{
 "cells": [
  {
   "cell_type": "code",
   "execution_count": 1,
   "id": "244c6111",
   "metadata": {},
   "outputs": [
    {
     "name": "stdout",
     "output_type": "stream",
     "text": [
      "Requirement already satisfied: selenium in c:\\users\\rakesh\\anaconda3\\lib\\site-packages (4.8.0)\n",
      "Requirement already satisfied: trio-websocket~=0.9 in c:\\users\\rakesh\\anaconda3\\lib\\site-packages (from selenium) (0.9.2)\n",
      "Requirement already satisfied: certifi>=2021.10.8 in c:\\users\\rakesh\\anaconda3\\lib\\site-packages (from selenium) (2021.10.8)\n",
      "Requirement already satisfied: urllib3[socks]~=1.26 in c:\\users\\rakesh\\anaconda3\\lib\\site-packages (from selenium) (1.26.9)\n",
      "Requirement already satisfied: trio~=0.17 in c:\\users\\rakesh\\anaconda3\\lib\\site-packages (from selenium) (0.22.0)\n",
      "Requirement already satisfied: outcome in c:\\users\\rakesh\\anaconda3\\lib\\site-packages (from trio~=0.17->selenium) (1.2.0)\n",
      "Requirement already satisfied: sniffio in c:\\users\\rakesh\\anaconda3\\lib\\site-packages (from trio~=0.17->selenium) (1.2.0)\n",
      "Requirement already satisfied: exceptiongroup>=1.0.0rc9 in c:\\users\\rakesh\\anaconda3\\lib\\site-packages (from trio~=0.17->selenium) (1.1.0)\n",
      "Requirement already satisfied: attrs>=19.2.0 in c:\\users\\rakesh\\anaconda3\\lib\\site-packages (from trio~=0.17->selenium) (21.4.0)\n",
      "Requirement already satisfied: idna in c:\\users\\rakesh\\anaconda3\\lib\\site-packages (from trio~=0.17->selenium) (3.3)\n",
      "Requirement already satisfied: cffi>=1.14 in c:\\users\\rakesh\\anaconda3\\lib\\site-packages (from trio~=0.17->selenium) (1.15.0)\n",
      "Requirement already satisfied: async-generator>=1.9 in c:\\users\\rakesh\\anaconda3\\lib\\site-packages (from trio~=0.17->selenium) (1.10)\n",
      "Requirement already satisfied: sortedcontainers in c:\\users\\rakesh\\anaconda3\\lib\\site-packages (from trio~=0.17->selenium) (2.4.0)\n",
      "Requirement already satisfied: pycparser in c:\\users\\rakesh\\anaconda3\\lib\\site-packages (from cffi>=1.14->trio~=0.17->selenium) (2.21)\n",
      "Requirement already satisfied: wsproto>=0.14 in c:\\users\\rakesh\\anaconda3\\lib\\site-packages (from trio-websocket~=0.9->selenium) (1.2.0)\n",
      "Requirement already satisfied: PySocks!=1.5.7,<2.0,>=1.5.6 in c:\\users\\rakesh\\anaconda3\\lib\\site-packages (from urllib3[socks]~=1.26->selenium) (1.7.1)\n",
      "Requirement already satisfied: h11<1,>=0.9.0 in c:\\users\\rakesh\\anaconda3\\lib\\site-packages (from wsproto>=0.14->trio-websocket~=0.9->selenium) (0.14.0)\n"
     ]
    }
   ],
   "source": [
    "!pip install selenium"
   ]
  },
  {
   "cell_type": "code",
   "execution_count": 2,
   "id": "dbdf26ff",
   "metadata": {},
   "outputs": [],
   "source": [
    "import selenium \n",
    "import pandas as pd\n",
    "from selenium import webdriver\n",
    "import warnings\n",
    "warnings.filterwarnings('ignore')\n",
    "from selenium.webdriver.common.by import By\n",
    "import time"
   ]
  },
  {
   "cell_type": "code",
   "execution_count": 3,
   "id": "958a0e5d",
   "metadata": {},
   "outputs": [],
   "source": [
    "#connect webdriver , Answer 1\n",
    "driver = webdriver.Chrome(r'C:\\Users\\Rakesh\\Downloads\\chromedriver.exe')"
   ]
  },
  {
   "cell_type": "code",
   "execution_count": 4,
   "id": "a4635b31",
   "metadata": {},
   "outputs": [],
   "source": [
    "driver.get(\"https://www.naukri.com\")"
   ]
  },
  {
   "cell_type": "code",
   "execution_count": 5,
   "id": "02d31c47",
   "metadata": {},
   "outputs": [],
   "source": [
    "#entering designation and location as required\n",
    "designation = driver.find_element(By.CLASS_NAME,\"suggestor-input\")\n",
    "designation.send_keys(\"Data Analyst\")"
   ]
  },
  {
   "cell_type": "code",
   "execution_count": 6,
   "id": "25d681c6",
   "metadata": {},
   "outputs": [],
   "source": [
    "location = driver.find_element(By.XPATH,\"/html/body/div[1]/div[6]/div/div/div[5]/div/div/div/input\")\n",
    "location.send_keys(\"Bangalore\")"
   ]
  },
  {
   "cell_type": "code",
   "execution_count": 7,
   "id": "15e9dbb9",
   "metadata": {},
   "outputs": [],
   "source": [
    "search = driver.find_element(By.CLASS_NAME,\"qsbSubmit\")\n",
    "search.click()"
   ]
  },
  {
   "cell_type": "code",
   "execution_count": 8,
   "id": "6b8239fa",
   "metadata": {},
   "outputs": [],
   "source": [
    "job_title=[]\n",
    "job_location = []                 #Answer 1\n",
    "company_name = []\n",
    "experience_required = []\n"
   ]
  },
  {
   "cell_type": "code",
   "execution_count": 9,
   "id": "1ced3680",
   "metadata": {},
   "outputs": [],
   "source": [
    "#scrape job title\n",
    "title_tags = driver.find_elements(By.XPATH,'//a[@class=\"title ellipsis\"]')\n",
    "for i in title_tags[0:10]:\n",
    "    location = i.text\n",
    "    job_title.append(location)"
   ]
  },
  {
   "cell_type": "code",
   "execution_count": 10,
   "id": "82c05efa",
   "metadata": {},
   "outputs": [
    {
     "data": {
      "text/plain": [
       "['Data Analyst',\n",
       " 'Data Analyst - Pharma/HLS Domain',\n",
       " 'Data Analyst, IND Blr Grp 4.3',\n",
       " 'Data Analyst, IND Blr Grp 4.3',\n",
       " 'Data Analyst',\n",
       " 'Graduate Data Analyst',\n",
       " 'Data Analyst',\n",
       " 'Data Analyst',\n",
       " 'Data Analyst',\n",
       " 'Data Analyst']"
      ]
     },
     "execution_count": 10,
     "metadata": {},
     "output_type": "execute_result"
    }
   ],
   "source": [
    "job_title"
   ]
  },
  {
   "cell_type": "code",
   "execution_count": 11,
   "id": "a502ced6",
   "metadata": {},
   "outputs": [],
   "source": [
    "#scrape job location\n",
    "title_location = driver.find_elements(By.XPATH,'//span[@class=\"ellipsis fleft locWdth\"]')\n",
    "for i in title_location[0:10]:\n",
    "    location = i.text\n",
    "    job_location.append(location)"
   ]
  },
  {
   "cell_type": "code",
   "execution_count": 12,
   "id": "e8e08df2",
   "metadata": {},
   "outputs": [
    {
     "data": {
      "text/plain": [
       "['Bangalore/Bengaluru',\n",
       " 'Bangalore/Bengaluru, Mumbai, Pune, Chennai, Gurgaon/Gurugram',\n",
       " 'Bangalore/Bengaluru',\n",
       " 'Bangalore/Bengaluru',\n",
       " 'Hybrid - Bangalore/Bengaluru, Hyderabad/Secunderabad, Chennai',\n",
       " 'Hybrid - Bangalore/Bengaluru',\n",
       " 'Bangalore/Bengaluru',\n",
       " 'Hybrid - Bangalore/Bengaluru',\n",
       " 'Bangalore/Bengaluru',\n",
       " 'Bangalore/Bengaluru']"
      ]
     },
     "execution_count": 12,
     "metadata": {},
     "output_type": "execute_result"
    }
   ],
   "source": [
    "job_location"
   ]
  },
  {
   "cell_type": "code",
   "execution_count": 13,
   "id": "d3f202ed",
   "metadata": {},
   "outputs": [],
   "source": [
    "#scrape job experience\n",
    "title_experience = driver.find_elements(By.XPATH,'//span[@class=\"ellipsis fleft expwdth\"]')\n",
    "for i in title_experience[0:10]:\n",
    "    location = i.text\n",
    "    experience_required.append(location)"
   ]
  },
  {
   "cell_type": "code",
   "execution_count": 14,
   "id": "b10cd1cb",
   "metadata": {},
   "outputs": [
    {
     "data": {
      "text/plain": [
       "['0-4 Yrs',\n",
       " '4-9 Yrs',\n",
       " '5-10 Yrs',\n",
       " '5-10 Yrs',\n",
       " '4-9 Yrs',\n",
       " '0-2 Yrs',\n",
       " '2-4 Yrs',\n",
       " '0-0 Yrs',\n",
       " '1-3 Yrs',\n",
       " '4-6 Yrs']"
      ]
     },
     "execution_count": 14,
     "metadata": {},
     "output_type": "execute_result"
    }
   ],
   "source": [
    " experience_required"
   ]
  },
  {
   "cell_type": "code",
   "execution_count": 15,
   "id": "2a0d5f59",
   "metadata": {},
   "outputs": [
    {
     "name": "stdout",
     "output_type": "stream",
     "text": [
      "10 10 10\n"
     ]
    }
   ],
   "source": [
    "print(len(job_title),len(job_location),len(experience_required))"
   ]
  },
  {
   "cell_type": "code",
   "execution_count": 16,
   "id": "28a96580",
   "metadata": {},
   "outputs": [
    {
     "data": {
      "text/html": [
       "<div>\n",
       "<style scoped>\n",
       "    .dataframe tbody tr th:only-of-type {\n",
       "        vertical-align: middle;\n",
       "    }\n",
       "\n",
       "    .dataframe tbody tr th {\n",
       "        vertical-align: top;\n",
       "    }\n",
       "\n",
       "    .dataframe thead th {\n",
       "        text-align: right;\n",
       "    }\n",
       "</style>\n",
       "<table border=\"1\" class=\"dataframe\">\n",
       "  <thead>\n",
       "    <tr style=\"text-align: right;\">\n",
       "      <th></th>\n",
       "      <th>Title</th>\n",
       "      <th>Location</th>\n",
       "      <th>Experience</th>\n",
       "    </tr>\n",
       "  </thead>\n",
       "  <tbody>\n",
       "    <tr>\n",
       "      <th>0</th>\n",
       "      <td>Data Analyst</td>\n",
       "      <td>Bangalore/Bengaluru</td>\n",
       "      <td>0-4 Yrs</td>\n",
       "    </tr>\n",
       "    <tr>\n",
       "      <th>1</th>\n",
       "      <td>Data Analyst - Pharma/HLS Domain</td>\n",
       "      <td>Bangalore/Bengaluru, Mumbai, Pune, Chennai, Gu...</td>\n",
       "      <td>4-9 Yrs</td>\n",
       "    </tr>\n",
       "    <tr>\n",
       "      <th>2</th>\n",
       "      <td>Data Analyst, IND Blr Grp 4.3</td>\n",
       "      <td>Bangalore/Bengaluru</td>\n",
       "      <td>5-10 Yrs</td>\n",
       "    </tr>\n",
       "    <tr>\n",
       "      <th>3</th>\n",
       "      <td>Data Analyst, IND Blr Grp 4.3</td>\n",
       "      <td>Bangalore/Bengaluru</td>\n",
       "      <td>5-10 Yrs</td>\n",
       "    </tr>\n",
       "    <tr>\n",
       "      <th>4</th>\n",
       "      <td>Data Analyst</td>\n",
       "      <td>Hybrid - Bangalore/Bengaluru, Hyderabad/Secund...</td>\n",
       "      <td>4-9 Yrs</td>\n",
       "    </tr>\n",
       "    <tr>\n",
       "      <th>5</th>\n",
       "      <td>Graduate Data Analyst</td>\n",
       "      <td>Hybrid - Bangalore/Bengaluru</td>\n",
       "      <td>0-2 Yrs</td>\n",
       "    </tr>\n",
       "    <tr>\n",
       "      <th>6</th>\n",
       "      <td>Data Analyst</td>\n",
       "      <td>Bangalore/Bengaluru</td>\n",
       "      <td>2-4 Yrs</td>\n",
       "    </tr>\n",
       "    <tr>\n",
       "      <th>7</th>\n",
       "      <td>Data Analyst</td>\n",
       "      <td>Hybrid - Bangalore/Bengaluru</td>\n",
       "      <td>0-0 Yrs</td>\n",
       "    </tr>\n",
       "    <tr>\n",
       "      <th>8</th>\n",
       "      <td>Data Analyst</td>\n",
       "      <td>Bangalore/Bengaluru</td>\n",
       "      <td>1-3 Yrs</td>\n",
       "    </tr>\n",
       "    <tr>\n",
       "      <th>9</th>\n",
       "      <td>Data Analyst</td>\n",
       "      <td>Bangalore/Bengaluru</td>\n",
       "      <td>4-6 Yrs</td>\n",
       "    </tr>\n",
       "  </tbody>\n",
       "</table>\n",
       "</div>"
      ],
      "text/plain": [
       "                              Title  \\\n",
       "0                      Data Analyst   \n",
       "1  Data Analyst - Pharma/HLS Domain   \n",
       "2     Data Analyst, IND Blr Grp 4.3   \n",
       "3     Data Analyst, IND Blr Grp 4.3   \n",
       "4                      Data Analyst   \n",
       "5             Graduate Data Analyst   \n",
       "6                      Data Analyst   \n",
       "7                      Data Analyst   \n",
       "8                      Data Analyst   \n",
       "9                      Data Analyst   \n",
       "\n",
       "                                            Location Experience  \n",
       "0                                Bangalore/Bengaluru    0-4 Yrs  \n",
       "1  Bangalore/Bengaluru, Mumbai, Pune, Chennai, Gu...    4-9 Yrs  \n",
       "2                                Bangalore/Bengaluru   5-10 Yrs  \n",
       "3                                Bangalore/Bengaluru   5-10 Yrs  \n",
       "4  Hybrid - Bangalore/Bengaluru, Hyderabad/Secund...    4-9 Yrs  \n",
       "5                       Hybrid - Bangalore/Bengaluru    0-2 Yrs  \n",
       "6                                Bangalore/Bengaluru    2-4 Yrs  \n",
       "7                       Hybrid - Bangalore/Bengaluru    0-0 Yrs  \n",
       "8                                Bangalore/Bengaluru    1-3 Yrs  \n",
       "9                                Bangalore/Bengaluru    4-6 Yrs  "
      ]
     },
     "execution_count": 16,
     "metadata": {},
     "output_type": "execute_result"
    }
   ],
   "source": [
    "df = pd.DataFrame({'Title':job_title,'Location':job_location,'Experience':experience_required})\n",
    "df"
   ]
  },
  {
   "cell_type": "code",
   "execution_count": 17,
   "id": "89c8b58f",
   "metadata": {},
   "outputs": [],
   "source": [
    "#Answer 2\n",
    "\n",
    "#connect webdriver , Answer 2\n",
    "driver = webdriver.Chrome(r'C:\\Users\\Rakesh\\Downloads\\chromedriver.exe')"
   ]
  },
  {
   "cell_type": "code",
   "execution_count": 18,
   "id": "40b21a55",
   "metadata": {},
   "outputs": [],
   "source": [
    "driver.get(\"https://www.naukri.com\")"
   ]
  },
  {
   "cell_type": "code",
   "execution_count": 19,
   "id": "1928f797",
   "metadata": {},
   "outputs": [],
   "source": [
    "designator = driver.find_element(By.CLASS_NAME,'suggestor-input ')\n",
    "designator.send_keys('Data Scientist')"
   ]
  },
  {
   "cell_type": "code",
   "execution_count": 20,
   "id": "bc845eef",
   "metadata": {},
   "outputs": [],
   "source": [
    "location = driver.find_element(By.XPATH,\"/html/body/div[1]/div[6]/div/div/div[5]/div/div/div/input\")\n",
    "location.send_keys(\"Bangalore\")"
   ]
  },
  {
   "cell_type": "code",
   "execution_count": 21,
   "id": "250fd540",
   "metadata": {},
   "outputs": [],
   "source": [
    "Search = driver.find_element(By.CLASS_NAME,'qsbSubmit')\n",
    "Search.click()"
   ]
  },
  {
   "cell_type": "code",
   "execution_count": 22,
   "id": "e4341751",
   "metadata": {},
   "outputs": [],
   "source": [
    "job_title = []\n",
    "job_location = []\n",
    "company_name = []\n",
    "experience_required = []"
   ]
  },
  {
   "cell_type": "code",
   "execution_count": 25,
   "id": "9da11dcd",
   "metadata": {},
   "outputs": [],
   "source": [
    "#scrape job title\n",
    "title_tags = driver.find_elements(By.XPATH,'//a[@class=\"title ellipsis\"]')\n",
    "for i in title_tags[0:10]:\n",
    "    location = i.text\n",
    "    job_title.append(location)"
   ]
  },
  {
   "cell_type": "code",
   "execution_count": 26,
   "id": "5fd91d81",
   "metadata": {},
   "outputs": [
    {
     "data": {
      "text/plain": [
       "['Senior data scientist',\n",
       " 'Data Scientist_NLP',\n",
       " 'Data Scientist',\n",
       " 'Data Science Specialist',\n",
       " 'Analystics & Modeling Specialist',\n",
       " 'Lead ML Scientist',\n",
       " 'Lead Machine Learning Specialist',\n",
       " 'Data Scientist',\n",
       " 'Sr. Data scientist',\n",
       " 'Staff Data Scientist']"
      ]
     },
     "execution_count": 26,
     "metadata": {},
     "output_type": "execute_result"
    }
   ],
   "source": [
    "job_title "
   ]
  },
  {
   "cell_type": "code",
   "execution_count": 28,
   "id": "75077b84",
   "metadata": {},
   "outputs": [],
   "source": [
    "#scrape location\n",
    "title_location = driver.find_elements(By.XPATH,'//span[@class=\"ellipsis fleft locWdth\"]')\n",
    "for i in title_location[0:10]:\n",
    "    locaton = i.text\n",
    "    job_location.append(location)"
   ]
  },
  {
   "cell_type": "code",
   "execution_count": 29,
   "id": "e0df3f0a",
   "metadata": {},
   "outputs": [
    {
     "data": {
      "text/plain": [
       "['Staff Data Scientist',\n",
       " 'Staff Data Scientist',\n",
       " 'Staff Data Scientist',\n",
       " 'Staff Data Scientist',\n",
       " 'Staff Data Scientist',\n",
       " 'Staff Data Scientist',\n",
       " 'Staff Data Scientist',\n",
       " 'Staff Data Scientist',\n",
       " 'Staff Data Scientist',\n",
       " 'Staff Data Scientist']"
      ]
     },
     "execution_count": 29,
     "metadata": {},
     "output_type": "execute_result"
    }
   ],
   "source": [
    "job_location"
   ]
  },
  {
   "cell_type": "code",
   "execution_count": 31,
   "id": "312455c1",
   "metadata": {},
   "outputs": [],
   "source": [
    "#scrape company name\n",
    "Name = driver.find_elements(By.XPATH,'//a[@class=\"subTitle ellipsis fleft\"]')\n",
    "for i in Name[0:10]:\n",
    "    location = i.text\n",
    "    company_name.append(location)"
   ]
  },
  {
   "cell_type": "code",
   "execution_count": 32,
   "id": "9c07d170",
   "metadata": {},
   "outputs": [
    {
     "data": {
      "text/plain": [
       "['Fractal Protocol',\n",
       " 'Fractal Protocol',\n",
       " 'Fractal Protocol',\n",
       " 'Accenture',\n",
       " 'Accenture',\n",
       " 'Fractal Protocol',\n",
       " 'Fractal Protocol',\n",
       " 'Cognizant',\n",
       " 'Tata Consultancy Services (TCS)',\n",
       " 'Baker Hughes']"
      ]
     },
     "execution_count": 32,
     "metadata": {},
     "output_type": "execute_result"
    }
   ],
   "source": [
    " company_name"
   ]
  },
  {
   "cell_type": "code",
   "execution_count": 34,
   "id": "f3d35a07",
   "metadata": {},
   "outputs": [],
   "source": [
    "#scrape experience required\n",
    "Experience = driver.find_elements(By.XPATH,'//span[@class=\"ellipsis fleft expwdth\"]')\n",
    "for i in Experience[0:10]:\n",
    "    location = i.text\n",
    "    experience_required.append(location)"
   ]
  },
  {
   "cell_type": "code",
   "execution_count": 37,
   "id": "c606de88",
   "metadata": {},
   "outputs": [
    {
     "data": {
      "text/plain": [
       "['4-8 Yrs',\n",
       " '5-11 Yrs',\n",
       " '3-7 Yrs',\n",
       " '2-4 Yrs',\n",
       " '6-8 Yrs',\n",
       " '6-10 Yrs',\n",
       " '6-12 Yrs',\n",
       " '8-10 Yrs',\n",
       " '7-12 Yrs',\n",
       " '10-12 Yrs']"
      ]
     },
     "execution_count": 37,
     "metadata": {},
     "output_type": "execute_result"
    }
   ],
   "source": [
    "experience_required"
   ]
  },
  {
   "cell_type": "code",
   "execution_count": 38,
   "id": "0ee7cc5e",
   "metadata": {},
   "outputs": [
    {
     "name": "stdout",
     "output_type": "stream",
     "text": [
      "10 10 10 10\n"
     ]
    }
   ],
   "source": [
    "print(len(job_title),len(job_location),len(company_name),len(experience_required))"
   ]
  },
  {
   "cell_type": "code",
   "execution_count": 40,
   "id": "1cd5206a",
   "metadata": {},
   "outputs": [
    {
     "data": {
      "text/html": [
       "<div>\n",
       "<style scoped>\n",
       "    .dataframe tbody tr th:only-of-type {\n",
       "        vertical-align: middle;\n",
       "    }\n",
       "\n",
       "    .dataframe tbody tr th {\n",
       "        vertical-align: top;\n",
       "    }\n",
       "\n",
       "    .dataframe thead th {\n",
       "        text-align: right;\n",
       "    }\n",
       "</style>\n",
       "<table border=\"1\" class=\"dataframe\">\n",
       "  <thead>\n",
       "    <tr style=\"text-align: right;\">\n",
       "      <th></th>\n",
       "      <th>Title</th>\n",
       "      <th>Location</th>\n",
       "      <th>Experience</th>\n",
       "    </tr>\n",
       "  </thead>\n",
       "  <tbody>\n",
       "    <tr>\n",
       "      <th>0</th>\n",
       "      <td>Senior data scientist</td>\n",
       "      <td>Staff Data Scientist</td>\n",
       "      <td>4-8 Yrs</td>\n",
       "    </tr>\n",
       "    <tr>\n",
       "      <th>1</th>\n",
       "      <td>Data Scientist_NLP</td>\n",
       "      <td>Staff Data Scientist</td>\n",
       "      <td>5-11 Yrs</td>\n",
       "    </tr>\n",
       "    <tr>\n",
       "      <th>2</th>\n",
       "      <td>Data Scientist</td>\n",
       "      <td>Staff Data Scientist</td>\n",
       "      <td>3-7 Yrs</td>\n",
       "    </tr>\n",
       "    <tr>\n",
       "      <th>3</th>\n",
       "      <td>Data Science Specialist</td>\n",
       "      <td>Staff Data Scientist</td>\n",
       "      <td>2-4 Yrs</td>\n",
       "    </tr>\n",
       "    <tr>\n",
       "      <th>4</th>\n",
       "      <td>Analystics &amp; Modeling Specialist</td>\n",
       "      <td>Staff Data Scientist</td>\n",
       "      <td>6-8 Yrs</td>\n",
       "    </tr>\n",
       "    <tr>\n",
       "      <th>5</th>\n",
       "      <td>Lead ML Scientist</td>\n",
       "      <td>Staff Data Scientist</td>\n",
       "      <td>6-10 Yrs</td>\n",
       "    </tr>\n",
       "    <tr>\n",
       "      <th>6</th>\n",
       "      <td>Lead Machine Learning Specialist</td>\n",
       "      <td>Staff Data Scientist</td>\n",
       "      <td>6-12 Yrs</td>\n",
       "    </tr>\n",
       "    <tr>\n",
       "      <th>7</th>\n",
       "      <td>Data Scientist</td>\n",
       "      <td>Staff Data Scientist</td>\n",
       "      <td>8-10 Yrs</td>\n",
       "    </tr>\n",
       "    <tr>\n",
       "      <th>8</th>\n",
       "      <td>Sr. Data scientist</td>\n",
       "      <td>Staff Data Scientist</td>\n",
       "      <td>7-12 Yrs</td>\n",
       "    </tr>\n",
       "    <tr>\n",
       "      <th>9</th>\n",
       "      <td>Staff Data Scientist</td>\n",
       "      <td>Staff Data Scientist</td>\n",
       "      <td>10-12 Yrs</td>\n",
       "    </tr>\n",
       "  </tbody>\n",
       "</table>\n",
       "</div>"
      ],
      "text/plain": [
       "                              Title              Location Experience\n",
       "0             Senior data scientist  Staff Data Scientist    4-8 Yrs\n",
       "1                Data Scientist_NLP  Staff Data Scientist   5-11 Yrs\n",
       "2                    Data Scientist  Staff Data Scientist    3-7 Yrs\n",
       "3           Data Science Specialist  Staff Data Scientist    2-4 Yrs\n",
       "4  Analystics & Modeling Specialist  Staff Data Scientist    6-8 Yrs\n",
       "5                 Lead ML Scientist  Staff Data Scientist   6-10 Yrs\n",
       "6  Lead Machine Learning Specialist  Staff Data Scientist   6-12 Yrs\n",
       "7                    Data Scientist  Staff Data Scientist   8-10 Yrs\n",
       "8                Sr. Data scientist  Staff Data Scientist   7-12 Yrs\n",
       "9              Staff Data Scientist  Staff Data Scientist  10-12 Yrs"
      ]
     },
     "execution_count": 40,
     "metadata": {},
     "output_type": "execute_result"
    }
   ],
   "source": [
    "df = pd.DataFrame({'Title':job_title,'Location':job_location,'Experience':experience_required})\n",
    "df"
   ]
  },
  {
   "cell_type": "code",
   "execution_count": 41,
   "id": "1ced9c3c",
   "metadata": {},
   "outputs": [],
   "source": [
    "#Answer 3\n",
    "\n",
    "#connect webdriver , Answer 3\n",
    "driver = webdriver.Chrome(r'C:\\Users\\Rakesh\\Downloads\\chromedriver.exe')"
   ]
  },
  {
   "cell_type": "code",
   "execution_count": 42,
   "id": "9d503390",
   "metadata": {},
   "outputs": [],
   "source": [
    "driver.get(\"https://www.naukri.com\")"
   ]
  },
  {
   "cell_type": "code",
   "execution_count": 45,
   "id": "50831d09",
   "metadata": {},
   "outputs": [],
   "source": [
    "designation = driver.find_element(By.CLASS_NAME,\"suggestor-input\")\n",
    "designation.send_keys('Data Scientist')"
   ]
  },
  {
   "cell_type": "code",
   "execution_count": 47,
   "id": "95cb7ca5",
   "metadata": {},
   "outputs": [],
   "source": [
    "search = driver.find_element(By.CLASS_NAME,\"qsbSubmit\")\n",
    "search.click()"
   ]
  },
  {
   "cell_type": "code",
   "execution_count": 80,
   "id": "043633f6",
   "metadata": {},
   "outputs": [],
   "source": [
    "job_title = []\n",
    "job_location = []\n",
    "job_experience = []\n",
    "salary = []"
   ]
  },
  {
   "cell_type": "code",
   "execution_count": 81,
   "id": "31be557a",
   "metadata": {},
   "outputs": [],
   "source": [
    "WorkLocation = driver.find_element(By.XPATH,\"/html/body/div[1]/div[4]/div/div/section[1]/div[2]/div[1]/div[2]/div[1]/label/p/span[1]\")\n",
    "WorkLocation.click()"
   ]
  },
  {
   "cell_type": "code",
   "execution_count": 83,
   "id": "85e596a8",
   "metadata": {},
   "outputs": [],
   "source": [
    "SalaryFilter = driver.find_element(By.XPATH,\"/html/body/div[1]/div[4]/div/div/section[1]/div[2]/div[5]/div[2]/div[4]/label/p/span[1]\")\n",
    "SalaryFilter.click()"
   ]
  },
  {
   "cell_type": "code",
   "execution_count": 84,
   "id": "00801080",
   "metadata": {},
   "outputs": [],
   "source": [
    "headers = driver.find_elements(By.XPATH,'//a[@class=\"title ellipsis\"]')\n",
    "for i in headers[0:10]:\n",
    "    location = i.text\n",
    "    job_title.append(location)"
   ]
  },
  {
   "cell_type": "code",
   "execution_count": 85,
   "id": "7b6131e9",
   "metadata": {},
   "outputs": [
    {
     "data": {
      "text/plain": [
       "['IT Sales Business Development Manager',\n",
       " 'Analyst (GSR) - Codification',\n",
       " 'Training Manager | Life Insurance - Mumbai',\n",
       " 'BM / AM - Agency / Banca / Direct | Life Insurance',\n",
       " 'Key Account Manager - Senior Associate',\n",
       " 'Software Engineer - Data Science Developer',\n",
       " 'Software Engineer',\n",
       " 'Engineer - PD',\n",
       " 'SE-TT',\n",
       " 'Sales Executive']"
      ]
     },
     "execution_count": 85,
     "metadata": {},
     "output_type": "execute_result"
    }
   ],
   "source": [
    "job_title"
   ]
  },
  {
   "cell_type": "code",
   "execution_count": 86,
   "id": "39a4e2f7",
   "metadata": {},
   "outputs": [],
   "source": [
    "place = driver.find_elements(By.XPATH,'//span[@class=\"ellipsis fleft locWdth\"]')\n",
    "for i in place[0:10]:\n",
    "    location = i.text\n",
    "    job_location.append(location)"
   ]
  },
  {
   "cell_type": "code",
   "execution_count": 87,
   "id": "2534f3ab",
   "metadata": {},
   "outputs": [
    {
     "data": {
      "text/plain": [
       "['Hyderabad/Secunderabad(Ameerpet), Kolkata(Kalyani +1), Chennai(Adyar), Bangalore/Bengaluru(Jayanagar), Delhi / NCR(Karol Bagh), Mumbai (All Areas)(Nariman Point +3)',\n",
       " 'Hyderabad/Secunderabad, Kolkata, Mumbai, New Delhi, Pune, Chennai, Bangalore/Bengaluru',\n",
       " 'Hyderabad/Secunderabad, Kolkata, Pune, Ahmedabad, Chennai, Jaipur, Bangalore/Bengaluru, Delhi / NCR, Mumbai (All Areas)',\n",
       " 'Hyderabad/Secunderabad, Kolkata, Pune, Ahmedabad, Chennai, Bangalore/Bengaluru, Delhi / NCR, Mumbai (All Areas)',\n",
       " 'Hyderabad/Secunderabad, Kolkata, Mumbai, New Delhi, Pune, Chennai, Bangalore/Bengaluru',\n",
       " 'Hyderabad/Secunderabad, Kolkata, Mumbai, New Delhi, Pune, Chennai, Bangalore/Bengaluru',\n",
       " 'Hyderabad/Secunderabad, Kolkata, Mumbai, New Delhi, Pune, Chennai, Bangalore/Bengaluru',\n",
       " 'Hyderabad/Secunderabad, Kolkata, Mumbai, New Delhi, Pune, Chennai, Bangalore/Bengaluru',\n",
       " 'Hyderabad/Secunderabad, Kolkata, Mumbai, New Delhi, Pune, Chennai, Bangalore/Bengaluru',\n",
       " 'Hyderabad/Secunderabad, Kolkata, Mumbai, New Delhi, Pune, Chennai, Bangalore/Bengaluru']"
      ]
     },
     "execution_count": 87,
     "metadata": {},
     "output_type": "execute_result"
    }
   ],
   "source": [
    "job_location"
   ]
  },
  {
   "cell_type": "code",
   "execution_count": 88,
   "id": "d34cb1d2",
   "metadata": {},
   "outputs": [],
   "source": [
    "experience = driver.find_elements(By.XPATH,'//span[@class=\"ellipsis fleft expwdth\"]')\n",
    "for i in experience[0:10]:\n",
    "    location = i.text\n",
    "    job_experience.append(location)"
   ]
  },
  {
   "cell_type": "code",
   "execution_count": 89,
   "id": "8d59cce3",
   "metadata": {},
   "outputs": [
    {
     "data": {
      "text/plain": [
       "['5-7 Yrs',\n",
       " '0-3 Yrs',\n",
       " '4-8 Yrs',\n",
       " '5-10 Yrs',\n",
       " '4-6 Yrs',\n",
       " '1-4 Yrs',\n",
       " '1-4 Yrs',\n",
       " '1-4 Yrs',\n",
       " '3-8 Yrs',\n",
       " '2-6 Yrs']"
      ]
     },
     "execution_count": 89,
     "metadata": {},
     "output_type": "execute_result"
    }
   ],
   "source": [
    "job_experience"
   ]
  },
  {
   "cell_type": "code",
   "execution_count": 90,
   "id": "7b53cda8",
   "metadata": {},
   "outputs": [],
   "source": [
    "expense = driver.find_elements(By.XPATH,'//span[@class=\"ellipsis fleft \"]')\n",
    "for i in expense[0:10]:\n",
    "    location = i.text\n",
    "    salary.append(location)"
   ]
  },
  {
   "cell_type": "code",
   "execution_count": 91,
   "id": "239d846a",
   "metadata": {},
   "outputs": [
    {
     "data": {
      "text/plain": [
       "['4.75-7 Lacs PA',\n",
       " 'Not disclosed',\n",
       " '6-8 Lacs PA',\n",
       " '10-16 Lacs PA',\n",
       " 'Not disclosed',\n",
       " 'Not disclosed',\n",
       " 'Not disclosed',\n",
       " 'Not disclosed',\n",
       " 'Not disclosed',\n",
       " 'Not disclosed']"
      ]
     },
     "execution_count": 91,
     "metadata": {},
     "output_type": "execute_result"
    }
   ],
   "source": [
    "salary"
   ]
  },
  {
   "cell_type": "code",
   "execution_count": 94,
   "id": "0205c670",
   "metadata": {},
   "outputs": [
    {
     "data": {
      "text/html": [
       "<div>\n",
       "<style scoped>\n",
       "    .dataframe tbody tr th:only-of-type {\n",
       "        vertical-align: middle;\n",
       "    }\n",
       "\n",
       "    .dataframe tbody tr th {\n",
       "        vertical-align: top;\n",
       "    }\n",
       "\n",
       "    .dataframe thead th {\n",
       "        text-align: right;\n",
       "    }\n",
       "</style>\n",
       "<table border=\"1\" class=\"dataframe\">\n",
       "  <thead>\n",
       "    <tr style=\"text-align: right;\">\n",
       "      <th></th>\n",
       "      <th>Headers</th>\n",
       "      <th>Salary</th>\n",
       "      <th>Experience</th>\n",
       "      <th>Location</th>\n",
       "    </tr>\n",
       "  </thead>\n",
       "  <tbody>\n",
       "    <tr>\n",
       "      <th>0</th>\n",
       "      <td>IT Sales Business Development Manager</td>\n",
       "      <td>4.75-7 Lacs PA</td>\n",
       "      <td>5-7 Yrs</td>\n",
       "      <td>Hyderabad/Secunderabad(Ameerpet), Kolkata(Kaly...</td>\n",
       "    </tr>\n",
       "    <tr>\n",
       "      <th>1</th>\n",
       "      <td>Analyst (GSR) - Codification</td>\n",
       "      <td>Not disclosed</td>\n",
       "      <td>0-3 Yrs</td>\n",
       "      <td>Hyderabad/Secunderabad, Kolkata, Mumbai, New D...</td>\n",
       "    </tr>\n",
       "    <tr>\n",
       "      <th>2</th>\n",
       "      <td>Training Manager | Life Insurance - Mumbai</td>\n",
       "      <td>6-8 Lacs PA</td>\n",
       "      <td>4-8 Yrs</td>\n",
       "      <td>Hyderabad/Secunderabad, Kolkata, Pune, Ahmedab...</td>\n",
       "    </tr>\n",
       "    <tr>\n",
       "      <th>3</th>\n",
       "      <td>BM / AM - Agency / Banca / Direct | Life Insur...</td>\n",
       "      <td>10-16 Lacs PA</td>\n",
       "      <td>5-10 Yrs</td>\n",
       "      <td>Hyderabad/Secunderabad, Kolkata, Pune, Ahmedab...</td>\n",
       "    </tr>\n",
       "    <tr>\n",
       "      <th>4</th>\n",
       "      <td>Key Account Manager - Senior Associate</td>\n",
       "      <td>Not disclosed</td>\n",
       "      <td>4-6 Yrs</td>\n",
       "      <td>Hyderabad/Secunderabad, Kolkata, Mumbai, New D...</td>\n",
       "    </tr>\n",
       "    <tr>\n",
       "      <th>5</th>\n",
       "      <td>Software Engineer - Data Science Developer</td>\n",
       "      <td>Not disclosed</td>\n",
       "      <td>1-4 Yrs</td>\n",
       "      <td>Hyderabad/Secunderabad, Kolkata, Mumbai, New D...</td>\n",
       "    </tr>\n",
       "    <tr>\n",
       "      <th>6</th>\n",
       "      <td>Software Engineer</td>\n",
       "      <td>Not disclosed</td>\n",
       "      <td>1-4 Yrs</td>\n",
       "      <td>Hyderabad/Secunderabad, Kolkata, Mumbai, New D...</td>\n",
       "    </tr>\n",
       "    <tr>\n",
       "      <th>7</th>\n",
       "      <td>Engineer - PD</td>\n",
       "      <td>Not disclosed</td>\n",
       "      <td>1-4 Yrs</td>\n",
       "      <td>Hyderabad/Secunderabad, Kolkata, Mumbai, New D...</td>\n",
       "    </tr>\n",
       "    <tr>\n",
       "      <th>8</th>\n",
       "      <td>SE-TT</td>\n",
       "      <td>Not disclosed</td>\n",
       "      <td>3-8 Yrs</td>\n",
       "      <td>Hyderabad/Secunderabad, Kolkata, Mumbai, New D...</td>\n",
       "    </tr>\n",
       "    <tr>\n",
       "      <th>9</th>\n",
       "      <td>Sales Executive</td>\n",
       "      <td>Not disclosed</td>\n",
       "      <td>2-6 Yrs</td>\n",
       "      <td>Hyderabad/Secunderabad, Kolkata, Mumbai, New D...</td>\n",
       "    </tr>\n",
       "  </tbody>\n",
       "</table>\n",
       "</div>"
      ],
      "text/plain": [
       "                                             Headers          Salary  \\\n",
       "0              IT Sales Business Development Manager  4.75-7 Lacs PA   \n",
       "1                       Analyst (GSR) - Codification   Not disclosed   \n",
       "2         Training Manager | Life Insurance - Mumbai     6-8 Lacs PA   \n",
       "3  BM / AM - Agency / Banca / Direct | Life Insur...   10-16 Lacs PA   \n",
       "4             Key Account Manager - Senior Associate   Not disclosed   \n",
       "5         Software Engineer - Data Science Developer   Not disclosed   \n",
       "6                                  Software Engineer   Not disclosed   \n",
       "7                                      Engineer - PD   Not disclosed   \n",
       "8                                              SE-TT   Not disclosed   \n",
       "9                                    Sales Executive   Not disclosed   \n",
       "\n",
       "  Experience                                           Location  \n",
       "0    5-7 Yrs  Hyderabad/Secunderabad(Ameerpet), Kolkata(Kaly...  \n",
       "1    0-3 Yrs  Hyderabad/Secunderabad, Kolkata, Mumbai, New D...  \n",
       "2    4-8 Yrs  Hyderabad/Secunderabad, Kolkata, Pune, Ahmedab...  \n",
       "3   5-10 Yrs  Hyderabad/Secunderabad, Kolkata, Pune, Ahmedab...  \n",
       "4    4-6 Yrs  Hyderabad/Secunderabad, Kolkata, Mumbai, New D...  \n",
       "5    1-4 Yrs  Hyderabad/Secunderabad, Kolkata, Mumbai, New D...  \n",
       "6    1-4 Yrs  Hyderabad/Secunderabad, Kolkata, Mumbai, New D...  \n",
       "7    1-4 Yrs  Hyderabad/Secunderabad, Kolkata, Mumbai, New D...  \n",
       "8    3-8 Yrs  Hyderabad/Secunderabad, Kolkata, Mumbai, New D...  \n",
       "9    2-6 Yrs  Hyderabad/Secunderabad, Kolkata, Mumbai, New D...  "
      ]
     },
     "execution_count": 94,
     "metadata": {},
     "output_type": "execute_result"
    }
   ],
   "source": [
    "df = pd.DataFrame({'Headers':job_title,'Salary':salary,'Experience':job_experience,'Location':job_location})\n",
    "df"
   ]
  },
  {
   "cell_type": "code",
   "execution_count": 97,
   "id": "e4a6aa43",
   "metadata": {},
   "outputs": [],
   "source": [
    "#Answer 4\n",
    "\n",
    "#connect webdriver , Answer 1\n",
    "driver = webdriver.Chrome(r'C:\\Users\\Rakesh\\Downloads\\chromedriver.exe')"
   ]
  },
  {
   "cell_type": "code",
   "execution_count": 98,
   "id": "384e853a",
   "metadata": {},
   "outputs": [],
   "source": [
    "driver.get(\"https://www.flipkart.com\")"
   ]
  },
  {
   "cell_type": "code",
   "execution_count": 99,
   "id": "131f3db0",
   "metadata": {},
   "outputs": [],
   "source": [
    "designation = driver.find_element(By.CLASS_NAME,\"_3704LK\")\n",
    "designation.send_keys('Sunglass')"
   ]
  },
  {
   "cell_type": "code",
   "execution_count": 100,
   "id": "e6346a02",
   "metadata": {},
   "outputs": [],
   "source": [
    "search = driver.find_element(By.CLASS_NAME,\"L0Z3Pu\")\n",
    "search.click()"
   ]
  },
  {
   "cell_type": "code",
   "execution_count": 101,
   "id": "bef57c80",
   "metadata": {},
   "outputs": [],
   "source": [
    "Brand = []\n",
    "ProductDescription = []\n",
    "Price = []"
   ]
  },
  {
   "cell_type": "code",
   "execution_count": 102,
   "id": "b2fc878c",
   "metadata": {},
   "outputs": [],
   "source": [
    "company = driver.find_elements(By.XPATH,'//div[@class=\"_2WkVRV\"]')\n",
    "\n",
    "for i in company[0:100]:\n",
    "    location = i.text\n",
    "    Brand.append(location)"
   ]
  },
  {
   "cell_type": "code",
   "execution_count": 103,
   "id": "9b4a2760",
   "metadata": {},
   "outputs": [
    {
     "data": {
      "text/plain": [
       "['OAKLEY',\n",
       " 'ROZZETTA CRAFT',\n",
       " 'NuVew',\n",
       " 'Fastrack',\n",
       " 'Fastrack',\n",
       " 'Fastrack',\n",
       " 'PIRASO',\n",
       " 'Singco India',\n",
       " 'NuVew',\n",
       " 'Fastrack',\n",
       " 'SUNBEE',\n",
       " 'ROZZETTA CRAFT',\n",
       " 'NuVew',\n",
       " 'PIRASO',\n",
       " 'NuVew',\n",
       " 'stylish petals',\n",
       " 'PIRASO',\n",
       " 'SRPM',\n",
       " 'Fastrack',\n",
       " 'Intellilens',\n",
       " 'NuVew',\n",
       " 'NuVew',\n",
       " 'NuVew',\n",
       " 'ROZZETTA CRAFT',\n",
       " 'Fastrack',\n",
       " 'Elligator',\n",
       " 'SHAAH COLLECTIONS',\n",
       " 'DEIXELS',\n",
       " 'PIRASO',\n",
       " 'Anemone',\n",
       " 'Fastrack',\n",
       " 'ROZZETTA CRAFT',\n",
       " 'Fastrack',\n",
       " 'NuVew',\n",
       " 'New Specs',\n",
       " 'Soul Hub',\n",
       " 'PIRASO',\n",
       " 'Fastrack',\n",
       " 'NuVew',\n",
       " 'ROYAL SON']"
      ]
     },
     "execution_count": 103,
     "metadata": {},
     "output_type": "execute_result"
    }
   ],
   "source": [
    "Brand"
   ]
  },
  {
   "cell_type": "code",
   "execution_count": 104,
   "id": "6e61cbb9",
   "metadata": {},
   "outputs": [],
   "source": [
    "cost = driver.find_elements(By.XPATH,'//div[@class=\"_30jeq3\"]')\n",
    "\n",
    "for i in cost[0:100]:\n",
    "    location = i.text\n",
    "    Price.append(location)"
   ]
  },
  {
   "cell_type": "code",
   "execution_count": 105,
   "id": "3fb7bb90",
   "metadata": {},
   "outputs": [
    {
     "data": {
      "text/plain": [
       "['₹6,149',\n",
       " '₹423',\n",
       " '₹99',\n",
       " '₹519',\n",
       " '₹566',\n",
       " '₹579',\n",
       " '₹321',\n",
       " '₹664',\n",
       " '₹129',\n",
       " '₹519',\n",
       " '₹283',\n",
       " '₹391',\n",
       " '₹129',\n",
       " '₹224',\n",
       " '₹99',\n",
       " '₹212',\n",
       " '₹268',\n",
       " '₹218',\n",
       " '₹649',\n",
       " '₹499',\n",
       " '₹99',\n",
       " '₹125',\n",
       " '₹129',\n",
       " '₹399',\n",
       " '₹649',\n",
       " '₹198',\n",
       " '₹185',\n",
       " '₹249',\n",
       " '₹250',\n",
       " '₹419',\n",
       " '₹579',\n",
       " '₹377',\n",
       " '₹519',\n",
       " '₹99',\n",
       " '₹259',\n",
       " '₹1,349',\n",
       " '₹224',\n",
       " '₹579',\n",
       " '₹99',\n",
       " '₹699']"
      ]
     },
     "execution_count": 105,
     "metadata": {},
     "output_type": "execute_result"
    }
   ],
   "source": [
    "Price"
   ]
  },
  {
   "cell_type": "code",
   "execution_count": 110,
   "id": "33fc3c98",
   "metadata": {},
   "outputs": [],
   "source": [
    "discription = driver.find_elements(By.XPATH,'//span[@class=\"_376u-U\"]')\n",
    "\n",
    "for i in discription[0:100]:\n",
    "    location = i.text\n",
    "    ProductDescription.append(location)"
   ]
  },
  {
   "cell_type": "code",
   "execution_count": 111,
   "id": "216c6dad",
   "metadata": {},
   "outputs": [
    {
     "data": {
      "text/plain": [
       "['Size Small',\n",
       " 'Size Free Size',\n",
       " 'Size Large',\n",
       " 'Size Free Size',\n",
       " 'Size Free Size',\n",
       " 'Size Free Size',\n",
       " 'Size',\n",
       " 'Size',\n",
       " 'Size',\n",
       " 'Size',\n",
       " '',\n",
       " '',\n",
       " '',\n",
       " 'Size']"
      ]
     },
     "execution_count": 111,
     "metadata": {},
     "output_type": "execute_result"
    }
   ],
   "source": [
    "ProductDescription"
   ]
  },
  {
   "cell_type": "code",
   "execution_count": 119,
   "id": "1f565806",
   "metadata": {},
   "outputs": [],
   "source": [
    "driver = webdriver.Chrome(r'C:\\Users\\Rakesh\\Downloads\\chromedriver.exe')"
   ]
  },
  {
   "cell_type": "code",
   "execution_count": 120,
   "id": "e392fa19",
   "metadata": {},
   "outputs": [],
   "source": [
    "driver.get(\"https://www.flipkart.com\")"
   ]
  },
  {
   "cell_type": "code",
   "execution_count": 121,
   "id": "58dd8d77",
   "metadata": {},
   "outputs": [],
   "source": [
    "#Answer 5\n",
    "designation = driver.find_element(By.CLASS_NAME,\"_3704LK\")\n",
    "designation.send_keys('I phone 11-black-64gb')"
   ]
  },
  {
   "cell_type": "code",
   "execution_count": 124,
   "id": "98509ec2",
   "metadata": {},
   "outputs": [],
   "source": [
    "search = driver.find_element(By.CLASS_NAME,\"L0Z3Pu\")\n",
    "search.click()"
   ]
  },
  {
   "cell_type": "code",
   "execution_count": 125,
   "id": "2d2462b6",
   "metadata": {},
   "outputs": [],
   "source": [
    "Rating = []\n",
    "ReviewCompany=[]\n",
    "FullReview=[]\n"
   ]
  },
  {
   "cell_type": "code",
   "execution_count": 126,
   "id": "dafaee96",
   "metadata": {},
   "outputs": [],
   "source": [
    "review = driver.find_element(By.CLASS_NAME,'_2_R_DZ')\n",
    "review.click()"
   ]
  },
  {
   "cell_type": "code",
   "execution_count": 129,
   "id": "0e1e45bd",
   "metadata": {},
   "outputs": [],
   "source": [
    "rating = driver.find_elements(By.XPATH,'//span[@class=\"_1lRcqv\"]')\n",
    "for i in rating[0:100]:\n",
    "    location = i.text\n",
    "    Rating.append(location)"
   ]
  },
  {
   "cell_type": "code",
   "execution_count": 130,
   "id": "b0887c3d",
   "metadata": {},
   "outputs": [
    {
     "data": {
      "text/plain": [
       "['4.6',\n",
       " '4.6',\n",
       " '4.2',\n",
       " '4.5',\n",
       " '4.3',\n",
       " '4.5',\n",
       " '4.2',\n",
       " '4.4',\n",
       " '4.3',\n",
       " '4.1',\n",
       " '4.3',\n",
       " '4.3',\n",
       " '3.9',\n",
       " '4.1',\n",
       " '4.1',\n",
       " '4.1',\n",
       " '4.1',\n",
       " '4.3',\n",
       " '3.9',\n",
       " '3.9',\n",
       " '4.5',\n",
       " '4']"
      ]
     },
     "execution_count": 130,
     "metadata": {},
     "output_type": "execute_result"
    }
   ],
   "source": [
    "Rating"
   ]
  },
  {
   "cell_type": "code",
   "execution_count": 134,
   "id": "0990d0e9",
   "metadata": {},
   "outputs": [],
   "source": [
    "driver = webdriver.Chrome(r'C:\\Users\\Rakesh\\Downloads\\chromedriver.exe')"
   ]
  },
  {
   "cell_type": "code",
   "execution_count": 135,
   "id": "3509b30f",
   "metadata": {},
   "outputs": [],
   "source": [
    "driver.get(\"https://www.flipkart.com\")"
   ]
  },
  {
   "cell_type": "code",
   "execution_count": 142,
   "id": "90da2c04",
   "metadata": {},
   "outputs": [],
   "source": [
    "designation = driver.find_element(By.CLASS_NAME,\"_3704LK\")\n",
    "designation.send_keys('I phone 11-black-64gb')"
   ]
  },
  {
   "cell_type": "code",
   "execution_count": 143,
   "id": "84c1e387",
   "metadata": {},
   "outputs": [],
   "source": [
    "search = driver.find_element(By.CLASS_NAME,\"L0Z3Pu\")\n",
    "search.click()"
   ]
  },
  {
   "cell_type": "code",
   "execution_count": 144,
   "id": "1aa3f2a8",
   "metadata": {},
   "outputs": [],
   "source": [
    "reviewsummary = driver.find_elements(By.XPATH,'//p[@class=\"_2-N8zT\"]')\n",
    "for i in reviewsummary[0:100]:\n",
    "    location= i.text\n",
    "    ReviewCompany.append(location)"
   ]
  },
  {
   "cell_type": "code",
   "execution_count": 145,
   "id": "efcfd0ed",
   "metadata": {},
   "outputs": [
    {
     "data": {
      "text/plain": [
       "['Did not meet expectations',\n",
       " 'Terrific',\n",
       " 'Value-for-money',\n",
       " 'Must buy!',\n",
       " 'Fabulous!',\n",
       " 'Just okay',\n",
       " 'Best in the market!',\n",
       " 'Worst experience ever!',\n",
       " 'Brilliant',\n",
       " 'Terrific purchase']"
      ]
     },
     "execution_count": 145,
     "metadata": {},
     "output_type": "execute_result"
    }
   ],
   "source": [
    "ReviewCompany"
   ]
  },
  {
   "cell_type": "code",
   "execution_count": 151,
   "id": "45660e89",
   "metadata": {},
   "outputs": [],
   "source": [
    "clickone = driver.find_element(By.CLASS_NAME,\"_4rR01T\")\n",
    "clickone.click()"
   ]
  },
  {
   "cell_type": "code",
   "execution_count": 152,
   "id": "020d3bc2",
   "metadata": {},
   "outputs": [],
   "source": [
    "reviewclick = driver.find_element(By.CLASS_NAME,\"_2_R_DZ\")\n",
    "reviewclick.click()"
   ]
  },
  {
   "cell_type": "code",
   "execution_count": null,
   "id": "84623483",
   "metadata": {},
   "outputs": [],
   "source": []
  },
  {
   "cell_type": "code",
   "execution_count": 153,
   "id": "99ee2ff9",
   "metadata": {},
   "outputs": [],
   "source": [
    "reviewcompany = driver.find_elements(By.XPATH,'//div[@class=\"t-ZTKy\"]')\n",
    "for i in reviewcompany[0:100]:\n",
    "    location = i.text\n",
    "    FullReview.append(location)"
   ]
  },
  {
   "cell_type": "code",
   "execution_count": 154,
   "id": "420094c8",
   "metadata": {},
   "outputs": [
    {
     "data": {
      "text/plain": [
       "['',\n",
       " '',\n",
       " '',\n",
       " '',\n",
       " '',\n",
       " '',\n",
       " 'The major problem is of battery .Battery does not perform well and going decreasing continuously and clarity of pictures reduces after capture, screen clarit...\\nRead full review',\n",
       " 'Excellent feature and good battery backup.',\n",
       " 'Thnx for flipkart because timely delivery\\nThis phone is good for value of the money 5.9k\\nRear $ fornt Camera good\\n2 gb ram me 1.3 gb free\\n16 gb rom me 11g...\\nRead full review',\n",
       " 'Phone is good for this prize.. and very low weight. but there is no service centers.',\n",
       " 'I like this phone & Performance is best',\n",
       " 'Very worst phone battery is very bad',\n",
       " 'The mobile was delivered on time, thanx to flipkart and it was packed in a great manner. It had an elegant design with a sturdy look and one of the best simp...\\nRead full review',\n",
       " 'Battery backup is nit good',\n",
       " 'Very good mobile 👍\\nI am using 2 days\\nbattery 🔋 back up good\\nCharging full in 1 hour only\\ncamera awesome after software update\\nVery good mobile thanks F...\\nRead full review',\n",
       " 'Awesome phone for this price 🤩🤩']"
      ]
     },
     "execution_count": 154,
     "metadata": {},
     "output_type": "execute_result"
    }
   ],
   "source": [
    "FullReview"
   ]
  },
  {
   "cell_type": "code",
   "execution_count": 155,
   "id": "70d7a828",
   "metadata": {},
   "outputs": [],
   "source": [
    "#Answer 6\n",
    "driver = webdriver.Chrome(r'C:\\Users\\Rakesh\\Downloads\\chromedriver.exe')"
   ]
  },
  {
   "cell_type": "code",
   "execution_count": 156,
   "id": "2d589c98",
   "metadata": {},
   "outputs": [],
   "source": [
    "driver.get(\"https://www.flipkart.com\")"
   ]
  },
  {
   "cell_type": "code",
   "execution_count": 159,
   "id": "862629f2",
   "metadata": {},
   "outputs": [],
   "source": [
    "designation = driver.find_element(By.CLASS_NAME,\"_3704LK\")\n",
    "designation.send_keys('sneakers')"
   ]
  },
  {
   "cell_type": "code",
   "execution_count": 160,
   "id": "57496302",
   "metadata": {},
   "outputs": [],
   "source": [
    "search = driver.find_element(By.CLASS_NAME,\"L0Z3Pu\")\n",
    "search.click()"
   ]
  },
  {
   "cell_type": "code",
   "execution_count": 161,
   "id": "d08829af",
   "metadata": {},
   "outputs": [],
   "source": [
    "Brand=[]\n",
    "ProductDescription=[]\n",
    "Price=[]\n"
   ]
  },
  {
   "cell_type": "code",
   "execution_count": 162,
   "id": "f3d9bb9c",
   "metadata": {},
   "outputs": [],
   "source": [
    "brand = driver.find_elements(By.XPATH,'//div[@class=\"_2WkVRV\"]')\n",
    "for i in brand[0:100]:\n",
    "    location = i.text\n",
    "    Brand.append(location)"
   ]
  },
  {
   "cell_type": "code",
   "execution_count": 163,
   "id": "b21b9ec8",
   "metadata": {},
   "outputs": [
    {
     "data": {
      "text/plain": [
       "['BRUTON',\n",
       " 'SFR',\n",
       " 'aadi',\n",
       " 'TR',\n",
       " 'Magnolia',\n",
       " 'Labbin',\n",
       " 'SFR',\n",
       " 'RapidBox',\n",
       " 'aadi',\n",
       " 'PUMA',\n",
       " 'Labbin',\n",
       " 'aadi',\n",
       " 'BIRDE',\n",
       " 'BIRDE',\n",
       " 'Sparx',\n",
       " 'AMICO',\n",
       " 'BIRDE',\n",
       " 'BIRDE',\n",
       " 'BRUTON',\n",
       " 'aadi',\n",
       " 'RapidBox',\n",
       " 'BIRDE',\n",
       " 'Sparx',\n",
       " 'WAAN',\n",
       " 'BRUTON',\n",
       " 'ASTEROID',\n",
       " 'kardam&sons',\n",
       " 'WAAN',\n",
       " 'World Wear Footwear',\n",
       " 'BIRDE',\n",
       " 'HRX by Hrithik Roshan',\n",
       " 'WAAN',\n",
       " 'aadi',\n",
       " 'Elevarse',\n",
       " 'BRUTON',\n",
       " 'lejano',\n",
       " 'HRX by Hrithik Roshan',\n",
       " 'Labbin',\n",
       " 'Kraasa',\n",
       " 'lejano']"
      ]
     },
     "execution_count": 163,
     "metadata": {},
     "output_type": "execute_result"
    }
   ],
   "source": [
    "Brand"
   ]
  },
  {
   "cell_type": "code",
   "execution_count": 164,
   "id": "65cf85c3",
   "metadata": {},
   "outputs": [],
   "source": [
    "productdescription = driver.find_elements(By.XPATH,'//a[@class=\"IRpwTa\"]')\n",
    "for i in productdescription[0:100]:\n",
    "    location = i.text\n",
    "    ProductDescription.append(location)"
   ]
  },
  {
   "cell_type": "code",
   "execution_count": 165,
   "id": "fd9551c7",
   "metadata": {},
   "outputs": [
    {
     "data": {
      "text/plain": [
       "['Canvas shoes for Men Sneakers For Men',\n",
       " 'Sneakers For Men',\n",
       " 'Synthetic Leather |Lightweight|Comfort|Summer|Trendy|Wa...',\n",
       " 'Sneakers For Men',\n",
       " 'Modern Trendy Sneakers boot Sneakers Sneakers For Men',\n",
       " 'Sneakers For Men',\n",
       " 'Sneakers For Men',\n",
       " 'Sneakers For Men',\n",
       " 'Sneakers For Men',\n",
       " 'UP Sneakers For Men',\n",
       " 'Sneakers For Men',\n",
       " 'Lightweight,Comfort,Summer,Trendy,Walking,Outdoor,Styli...',\n",
       " 'Combo Pack of 2 Casual Shoes Sneakers For Men',\n",
       " 'Combo Pack Of 2 Casual Shoes Sneakers For Men',\n",
       " 'Men White Sneakers Sneakers For Men',\n",
       " 'Sneakers For Men',\n",
       " 'Premium Sports Shoes For Men Pack Of 2 Sneakers For Men',\n",
       " 'Premium Sports Shoes For Men Pack Of 2 Sneakers For Men',\n",
       " 'Modern Trendy Sneakers Shoes Sneakers For Men',\n",
       " 'Mesh |Lightweight|Comfort|Summer|Trendy|Walking|Outdoor...',\n",
       " 'Sneakers For Men',\n",
       " 'Combo Pack of 2 Casual Shoes Sneakers For Men',\n",
       " 'SM-671 Sneakers For Men',\n",
       " 'Combo Pack Of 4 Casual Shoes Loafer Shoes Sneakers For ...',\n",
       " \"Men's Outdoor Color Change Sneakers Colorblock Fancy Pr...\",\n",
       " 'kardam&sons luxury fashionable Stylish Light Weight Sne...',\n",
       " 'Trendy Stylish Comfortable & Lightweight, Casual High T...',\n",
       " 'Trendy Casual Shoe For Men Pack Of 2 Sneakers For Men',\n",
       " 'Men Urban Street Athleisure Shoe Sneakers For Men',\n",
       " 'Synthetic Leather |Lightweight|Comfort|Summer|Trendy|Wa...',\n",
       " 'Comfortable and Light Weight sports shoes for men and b...',\n",
       " '2 Combo Sneaker Shoes Sneakers For Men',\n",
       " 'Sneakers For Men',\n",
       " 'Casual Sneakers Black Outdoor Shoes For Boys And Men Sn...',\n",
       " 'Casuals, Canvas, Partywear Sneakers For Men']"
      ]
     },
     "execution_count": 165,
     "metadata": {},
     "output_type": "execute_result"
    }
   ],
   "source": [
    "ProductDescription"
   ]
  },
  {
   "cell_type": "code",
   "execution_count": 166,
   "id": "e7f7d66d",
   "metadata": {},
   "outputs": [],
   "source": [
    "price = driver.find_elements(By.XPATH,'//div[@class=\"_30jeq3\"]')\n",
    "for i in price[0:100]:\n",
    "    location = i.text\n",
    "    Price.append(location)"
   ]
  },
  {
   "cell_type": "code",
   "execution_count": 167,
   "id": "aabeb495",
   "metadata": {},
   "outputs": [
    {
     "data": {
      "text/plain": [
       "['₹249',\n",
       " '₹249',\n",
       " '₹299',\n",
       " '₹699',\n",
       " '₹399',\n",
       " '₹424',\n",
       " '₹243',\n",
       " '₹571',\n",
       " '₹399',\n",
       " '₹2,727',\n",
       " '₹399',\n",
       " '₹599',\n",
       " '₹499',\n",
       " '₹499',\n",
       " '₹674',\n",
       " '₹549',\n",
       " '₹499',\n",
       " '₹499',\n",
       " '₹299',\n",
       " '₹749',\n",
       " '₹571',\n",
       " '₹499',\n",
       " '₹824',\n",
       " '₹699',\n",
       " '₹499',\n",
       " '₹803',\n",
       " '₹597',\n",
       " '₹699',\n",
       " '₹393',\n",
       " '₹499',\n",
       " '₹1,271',\n",
       " '₹699',\n",
       " '₹399',\n",
       " '₹298',\n",
       " '₹449',\n",
       " '₹498',\n",
       " '₹1,729',\n",
       " '₹549',\n",
       " '₹499',\n",
       " '₹498']"
      ]
     },
     "execution_count": 167,
     "metadata": {},
     "output_type": "execute_result"
    }
   ],
   "source": [
    "Price"
   ]
  },
  {
   "cell_type": "code",
   "execution_count": 168,
   "id": "56abf864",
   "metadata": {},
   "outputs": [],
   "source": [
    "#Answer 7\n",
    "driver = webdriver.Chrome(r'C:\\Users\\Rakesh\\Downloads\\chromedriver.exe')"
   ]
  },
  {
   "cell_type": "code",
   "execution_count": 169,
   "id": "99aefbab",
   "metadata": {},
   "outputs": [],
   "source": [
    "driver.get(\"https://www.amazon.com\")"
   ]
  },
  {
   "cell_type": "code",
   "execution_count": 184,
   "id": "7ceae1e2",
   "metadata": {},
   "outputs": [],
   "source": [
    "designation = driver.find_element(By.XPATH,\"/html/body/div[1]/header/div/div[1]/div[2]/div/form/div[2]/div[1]/input\")\n",
    "designation.send_keys('Laptop')"
   ]
  },
  {
   "cell_type": "code",
   "execution_count": 185,
   "id": "2a6e5d17",
   "metadata": {},
   "outputs": [],
   "source": [
    "search = driver.find_element(By.XPATH,\"/html/body/div[1]/header/div/div[1]/div[2]/div/form/div[3]/div/span/input\")\n",
    "search.click()"
   ]
  },
  {
   "cell_type": "code",
   "execution_count": 186,
   "id": "a826e3a3",
   "metadata": {},
   "outputs": [],
   "source": [
    "Title = []\n",
    "Ratings = []\n",
    "Price = []\n"
   ]
  },
  {
   "cell_type": "code",
   "execution_count": 187,
   "id": "b05aa42c",
   "metadata": {},
   "outputs": [],
   "source": [
    "title = driver.find_elements(By.XPATH,'//div[@class=\"a-section a-spacing-none puis-padding-right-small s-title-instructions-style\"]')\n",
    "\n",
    "for i in title[0:100]:\n",
    "    location = i.text\n",
    "    Title.append(location)"
   ]
  },
  {
   "cell_type": "code",
   "execution_count": 188,
   "id": "065498cb",
   "metadata": {},
   "outputs": [
    {
     "data": {
      "text/plain": [
       "['Lenovo 2022 Newest Ideapad 3 Laptop, 15.6\" HD Touchscreen, 11th Gen Intel Core i3-1115G4 Processor, 8GB DDR4 RAM, 256GB PCIe NVMe SSD, HDMI, Webcam, Wi-Fi 5, Bluetooth, Windows 11 Home, Almond',\n",
       " 'SGIN Laptop 15.6 Inch, 4GB DDR4 128GB SSD Windows 11 Laptops with Intel Celeron N4020C(up to 2.8 GHz), Intel UHD Graphics 600, Mini HDMI, WiFi, Webcam, USB3.0, Bluetooth 4.2',\n",
       " '2021 HP Stream 14\" HD SVA Laptop Computer, Intel Celeron N4000 Processor, 4GB RAM, 64GB eMMC Flash Memory, Webcam, 1-Year Office, Intel UHD Graphics 600, Win 10S, Rose Pink, 32GB SnowBell USB Card',\n",
       " 'MSI WS66 11UK FHD Mobile Workstation Intel Core i9-11900H Quadro RTX A3000 32GB RAM 1TB NVME SSD WIN10 Pro TPM2.0 Fingerprint 3 Year onsite Warranty',\n",
       " 'Acer Aspire 5 A515-56-32DK Slim Laptop - 15.6\" Full HD IPS Display - 11th Gen Intel i3-1115G4 Dual Core Processor - 4GB DDR4 - 128GB NVMe SSD - WiFi 6 - Amazon Alexa - Windows 11 Home in S mode.',\n",
       " 'Lenovo Newest IdeaPad 1i 14\" HD Laptop, 4GB RAM, 256GB Storage, Intel Pentium N5030 Processor, 10Hrs Battery Life, Rapid Charge, Home&Education Laptop, HDMI, Type-C, Windows 11S, 1 Year Microsoft 365',\n",
       " 'HP 2022 15.6\" HD Laptop, Intel Core i3- 1115G4 Processor, 32GB DDR4, 1TB PCIe SSD , Intel HD Graphics, Wi-Fi, Bluetooth, HDMI, Windows 11 S, Natural Silver, 32GB SnowBell USB Card',\n",
       " 'ASUS Vivobook Go 12 L210 11.6” Ultra-Thin Laptop, 2022 Version, Intel Celeron N4020, 4GB RAM, 64GB eMMC, Win 11 Home in S Mode with One Year of Office 365 Personal, L210MA-DS02',\n",
       " 'Lenovo 14\" IdeaPad 1 Laptop, Intel Dual-core Processor, 14\" HD Display, 4GB RAM, Wi-Fi 6 and Bluetooth, HDMI, SD Card Reader, Windows 11 Home in S Mode (256GB SSD Storage)',\n",
       " 'HP 17-inch Laptop, 11th Generation Intel Core i5-1135G7, Iris Xe Graphics, 8 GB RAM, 256 GB SSD, Windows 11 Home (17-cn0025nr,Natural Silver)',\n",
       " 'ASUS Vivobook Laptop L210 11.6\" Ultra Thin Laptop, Intel Celeron N4020 Processor, 4GB RAM, 128GB eMMC Storage, Windows 11 Home in S Mode with One Year of Office 365 Personal, L210MA-DS04',\n",
       " 'Lenovo - 2022 - IdeaPad Flex 5i - 2-in-1 Chromebook Laptop Computer - Intel Core i3-1115G4 - 13.3\" FHD Touch Display - 8GB Memory - 128GB Storage - Chrome OS',\n",
       " 'Lenovo IdeaPad 1 14 Laptop, 14.0\" HD Display, Intel Celeron N4020, 4GB RAM, 64GB Storage, Intel UHD Graphics 600, Win 11 in S Mode, Cloud Grey',\n",
       " 'Lenovo IdeaPad 1i Laptop 14\" HD Display, Intel Pentium Silver N5030 Processor(4-Core, up to 3.1 GHz), 4GB RAM, 256GB Storage(128GB eMMC + 128GB MSD Card), 10Hr Battery, Win 11 S, 1 Year Microsoft 365',\n",
       " 'Lenovo 15.6\" IdeaPad 1 Laptop, AMD Dual-core Processor, 15.6\" HD Anti-Glare Display, Wi-Fi 6 and Bluetooth 5.0, HDMI, Windows 11 Home in S Mode(12GB RAM | 256GB SSD)',\n",
       " 'Acer Chromebook 311 MT8183/2.0GHz 4096/32 WNICb 11.6TFT Chrome OS']"
      ]
     },
     "execution_count": 188,
     "metadata": {},
     "output_type": "execute_result"
    }
   ],
   "source": [
    "Title"
   ]
  },
  {
   "cell_type": "code",
   "execution_count": 191,
   "id": "73583770",
   "metadata": {},
   "outputs": [],
   "source": [
    "ratings = driver.find_elements(By.XPATH,'//span[@class=\"a-size-base\"]')\n",
    "\n",
    "for i in ratings[0:100]:\n",
    "    location = i.text\n",
    "    Ratings.append(location)"
   ]
  },
  {
   "cell_type": "code",
   "execution_count": 192,
   "id": "f87bc8c8",
   "metadata": {},
   "outputs": [
    {
     "data": {
      "text/plain": [
       "['',\n",
       " '',\n",
       " '',\n",
       " '',\n",
       " '',\n",
       " '',\n",
       " '',\n",
       " '',\n",
       " '',\n",
       " '',\n",
       " '',\n",
       " '',\n",
       " '',\n",
       " '',\n",
       " '',\n",
       " '',\n",
       " '4.4',\n",
       " '4.5',\n",
       " '4.3',\n",
       " 'Shop by brand',\n",
       " 'Shop by price',\n",
       " '4.3',\n",
       " '4.3',\n",
       " '4.0',\n",
       " '',\n",
       " '',\n",
       " '4.6',\n",
       " '4.5',\n",
       " '5.0',\n",
       " '4.3',\n",
       " '4.5',\n",
       " '4.5',\n",
       " '4.0',\n",
       " '3.9',\n",
       " '4.5',\n",
       " '4.3',\n",
       " '4.4',\n",
       " '4.2',\n",
       " '4.7',\n",
       " '3.0',\n",
       " '5.0',\n",
       " '4.1']"
      ]
     },
     "execution_count": 192,
     "metadata": {},
     "output_type": "execute_result"
    }
   ],
   "source": [
    "Ratings"
   ]
  },
  {
   "cell_type": "code",
   "execution_count": 193,
   "id": "e621911e",
   "metadata": {},
   "outputs": [],
   "source": [
    "price = driver.find_elements(By.XPATH,'//span[@class=\"a-price-whole\"]')\n",
    "\n",
    "for i in price[0:100]:\n",
    "    location = i.text\n",
    "    Price.append(location)"
   ]
  },
  {
   "cell_type": "code",
   "execution_count": 194,
   "id": "cfec57d2",
   "metadata": {},
   "outputs": [
    {
     "data": {
      "text/plain": [
       "['375',\n",
       " '259',\n",
       " '289',\n",
       " '289',\n",
       " '229',\n",
       " '199',\n",
       " '',\n",
       " '',\n",
       " '561',\n",
       " '299',\n",
       " '2,865',\n",
       " '269',\n",
       " '199',\n",
       " '529',\n",
       " '151',\n",
       " '199',\n",
       " '540',\n",
       " '199',\n",
       " '299',\n",
       " '149',\n",
       " '219',\n",
       " '299',\n",
       " '90']"
      ]
     },
     "execution_count": 194,
     "metadata": {},
     "output_type": "execute_result"
    }
   ],
   "source": [
    "Price"
   ]
  },
  {
   "cell_type": "code",
   "execution_count": 195,
   "id": "e1004972",
   "metadata": {},
   "outputs": [],
   "source": [
    "#Answer 8\n",
    "\n",
    "driver = webdriver.Chrome(r'C:\\Users\\Rakesh\\Downloads\\chromedriver.exe')"
   ]
  },
  {
   "cell_type": "code",
   "execution_count": 196,
   "id": "09f7ddea",
   "metadata": {},
   "outputs": [],
   "source": [
    "driver.get(\"https://www.azquotes.com\")"
   ]
  },
  {
   "cell_type": "code",
   "execution_count": 197,
   "id": "7e668b8f",
   "metadata": {},
   "outputs": [],
   "source": [
    "search = driver.find_element(By.XPATH,\"/html/body/div[1]/div[1]/div[1]/div/div[3]/ul/li[5]/a\")\n",
    "search.click()"
   ]
  },
  {
   "cell_type": "code",
   "execution_count": 198,
   "id": "8fe01e4d",
   "metadata": {},
   "outputs": [],
   "source": [
    "Quotes=[]\n",
    "Author=[]\n",
    "TypeofQuote=[]"
   ]
  },
  {
   "cell_type": "code",
   "execution_count": 199,
   "id": "9796253b",
   "metadata": {},
   "outputs": [],
   "source": [
    "quotes= driver.find_elements(By.XPATH,'//a[@class=\"title\"]')\n",
    "\n",
    "for i in quotes[0:100]:\n",
    "    location = i.text\n",
    "    Quotes.append(location)"
   ]
  },
  {
   "cell_type": "code",
   "execution_count": 200,
   "id": "d824e5bf",
   "metadata": {},
   "outputs": [
    {
     "data": {
      "text/plain": [
       "['The essence of strategy is choosing what not to do.',\n",
       " 'One cannot and must not try to erase the past merely because it does not fit the present.',\n",
       " 'Patriotism means to stand by the country. It does not mean to stand by the president.',\n",
       " 'Death is something inevitable. When a man has done what he considers to be his duty to his people and his country, he can rest in peace. I believe I have made that effort and that is, therefore, why I will sleep for the eternity.',\n",
       " 'You have to love a nation that celebrates its independence every July 4, not with a parade of guns, tanks, and soldiers who file by the White House in a show of strength and muscle, but with family picnics where kids throw Frisbees, the potato salad gets iffy, and the flies die from happiness. You may think you have overeaten, but it is patriotism.',\n",
       " 'Be more concerned with your character than your reputation, because your character is what you really are, while your reputation is merely what others think you are.',\n",
       " 'Weak people revenge. Strong people forgive. Intelligent People Ignore.',\n",
       " \"A mind is like a parachute. It doesn't work if it is not open.\",\n",
       " 'Never be afraid to raise your voice for honesty and truth and compassion against injustice and lying and greed. If people all over the world...would do this, it would change the earth.',\n",
       " 'There are three kinds of men. The one that learns by reading. The few who learn by observation. The rest of them have to pee on the electric fence for themselves.',\n",
       " \"A strong nation, like a strong person, can afford to be gentle, firm, thoughtful, and restrained. It can afford to extend a helping hand to others. It's a weak nation, like a weak person, that must behave with bluster and boasting and rashness and other signs of insecurity.\",\n",
       " 'The difference between stupidity and genius is that genius has its limits.',\n",
       " 'We the people are the rightful masters of both Congress and the courts, not to overthrow the Constitution but to overthrow the men who pervert the Constitution.',\n",
       " 'With or without religion, you would have good people doing good things and evil people doing evil things. But for good people to do evil things, that takes religion.',\n",
       " 'Human kindness has never weakened the stamina or softened the fiber of a free people. A nation does not have to be cruel to be tough.',\n",
       " 'A person who never made a mistake never tried anything new.',\n",
       " 'My mission in life is not merely to survive, but to thrive; and to do so with some passion, some compassion, some humor, and some style',\n",
       " 'Life is short, Break the Rules. Forgive quickly, Kiss slowly. Love truly. Laugh uncontrollably And never regret ANYTHING That makes you smile.',\n",
       " 'This country will not be a good place for any of us to live in unless we make it a good place for all of us to live in.',\n",
       " 'In a world filled with hate, we must still dare to hope. In a world filled with anger, we must still dare to comfort. In a world filled with despair, we must still dare to dream. And in a world filled with distrust, we must still dare to believe.',\n",
       " 'Darkness cannot drive out darkness; only light can do that. Hate cannot drive out hate; only love can do that.',\n",
       " 'To be a Christian means to forgive the inexcusable because God has forgiven the inexcusable in you.',\n",
       " 'A man who is good enough to shed his blood for the country is good enough to be given a square deal afterwards.',\n",
       " 'Kindness is the language which the deaf can hear and the blind can see.',\n",
       " 'Most folks are as happy as they make up their minds to be.',\n",
       " 'A happy marriage is the union of two good forgivers.',\n",
       " 'I believe in Christianity as I believe that the sun has risen: not only because I see it, but because by it I see everything else.',\n",
       " 'Politics is the art of looking for trouble, finding it everywhere, diagnosing it incorrectly and applying the wrong remedies.',\n",
       " \"I believe in everything until it's disproved. So I believe in fairies, the myths, dragons. It all exists, even if it's in your mind. Who's to say that dreams and nightmares aren't as real as the here and now?\",\n",
       " 'At the end of your life, you will never regret not having passed one more test, not winning one more verdict or not closing one more deal. You will regret time not spent with a husband, a friend, a child, or a parent.',\n",
       " 'I never think of the future - it comes soon enough.',\n",
       " \"Our greatest fear should not be of failure but of succeeding at things in life that don't really matter.\",\n",
       " 'Failure is simply the opportunity to begin again, this time more intelligently.',\n",
       " 'Music expresses that which cannot be put into words.',\n",
       " 'Good actions are a guard against the blows of adversity.',\n",
       " 'Positive thinking will let you do everything better than negative thinking will.',\n",
       " \"You have enemies? Good. That means you've stood up for something, sometime in your life.\",\n",
       " \"You don't have to be great to start, but you have to start to be great\",\n",
       " 'Let every nation know, whether it wishes us well or ill, that we shall pay any price, bear any burden, meet any hardship, support any friend, oppose any foe to assure the survival and the success of liberty.',\n",
       " \"If you want total security, go to prison. There you're fed, clothed, given medical care and so on. The only thing lacking... is freedom.\",\n",
       " 'Socialism is a philosophy of failure, the creed of ignorance, and the gospel of envy, its inherent virtue is the equal sharing of misery.',\n",
       " 'It is the supreme art of the teacher to awaken joy in creative expression and knowledge.',\n",
       " \"Once you replace negative thoughts with positive ones, you'll start having positive results.\",\n",
       " \"You build on failure. You use it as a stepping stone. Close the door on the past. You don't try to forget the mistakes, but you don't dwell on it. You don't let it have any of your energy, or any of your time, or any of your space.\",\n",
       " 'All my life through, the new sights of Nature made me rejoice like a child.',\n",
       " \"I've learned that people will forget what you said, people will forget what you did, but people will never forget how you made them feel.\",\n",
       " 'Marriage is not a ritual or an end. It is a long, intricate, intimate dance together and nothing matters more than your own sense of balance and your choice of partner.',\n",
       " 'When obstacles arise, you change your direction to reach your goal; you do not change your decision to get there.',\n",
       " 'Time you enjoy wasting, was not wasted.',\n",
       " 'The next time some academics tell you how important diversity is, ask how many Republicans there are in their sociology department.',\n",
       " 'Faith is not the belief that God will do what you want. It is the belief that God will do what is right.',\n",
       " \"If you can't fly then run, if you can't run then walk, if you can't walk then crawl, but whatever you do you have to keep moving forward.\",\n",
       " 'I say that the most liberating thing about beauty is realizing that you are the beholder.',\n",
       " 'It is hard to imagine a more stupid or more dangerous way of making decisions than by putting those decisions in the hands of people who pay no price for being wrong.',\n",
       " 'The ultimate measure of a man is not where he stands in moments of comfort and convenience, but where he stands at times of challenge and controversy.',\n",
       " 'The soldier, above all other people, prays for peace, for he must suffer and bear the deepest wounds and scars of war.',\n",
       " 'A true leader has the confidence to stand alone, the courage to make tough decisions, and the compassion to listen to the needs of others. He does not set out to be a leader, but becomes one by the equality of his actions and the integrity of his intent.',\n",
       " 'I am a Soldier, I fight where I am told, and I win where I fight.',\n",
       " \"Trying to do the Lord's work in your own strength is the most confusing, exhausting, and tedious of all work. But when you are filled with the Holy Spirit, then the ministry of Jesus just flows out of you.\",\n",
       " \"Sports for me is when a guy walks off the court, and you really can't tell whether he won or lost, when he carries himself with pride either way.\",\n",
       " 'Expect the best. Prepare for the worst. Capitalize on what comes.',\n",
       " 'I became insane, with long intervals of horrible sanity.',\n",
       " 'Failure is a detour, not a dead-end street.',\n",
       " 'I am not a product of my circumstances. I am a product of my decisions.',\n",
       " 'You can cut all the flowers but you cannot keep spring from coming.',\n",
       " \"Life doesn't run away from nobody. Life runs at people.\",\n",
       " 'In order to succeed, your desire for success should be greater than your fear of failure.',\n",
       " \"It's difficult to think anything but pleasant thoughts while eating a homegrown tomato.\",\n",
       " 'Too many of us are not living our dreams because we are living our fears.',\n",
       " 'If the only prayer you ever say in your entire life is thank you, it will be enough.',\n",
       " \"It's just a job. Grass grows, birds fly, waves pound the sand. I beat people up.\",\n",
       " 'A man must be big enough to admit his mistakes, smart enough to profit from them, and strong enough to correct them.',\n",
       " 'Our greatest weakness lies in giving up. The most certain way to succeed is always to try just one more time.',\n",
       " 'This is one small step for a man, one giant leap for mankind.',\n",
       " \"It has been said, 'time heals all wounds.' I do not agree. The wounds remain. In time, the mind, protecting its sanity, covers them with scar tissue and the pain lessens. But it is never gone.\",\n",
       " \"I have held many things in my hands, and I have lost them all; but whatever I have placed in God's hands, that I still possess.\",\n",
       " \"Welfare's purpose should be to eliminate, as far as possible, the need for its own existence.\",\n",
       " 'Each time, before you intercede, be quiet first, and worship God in His glory. Think of what He can do, and how He delights to hear the prayers of His redeemed people. Think of your place and privilege in Christ, and expect great things!',\n",
       " \"Failure is not the opposite of success; it's part of success.\",\n",
       " 'No one has ever become poor by giving.',\n",
       " 'It is not my ability, but my response to God’s ability, that counts.',\n",
       " 'No matter what people tell you, words and ideas can change the world.',\n",
       " 'No one is born hating another person because of the color of his skin, or his background, or his religion. People must learn to hate, and if they can learn to hate, they can be taught to love, for love comes more naturally to the human heart than its opposite.',\n",
       " 'A man should never neglect his family for business.',\n",
       " 'Those who dare to fail miserably can achieve greatly.',\n",
       " 'The two most important days in your life are the day you are born and the day you find out why.',\n",
       " 'We must be global Christians with a global vision because our God is a global God.',\n",
       " 'With everything that has happened to you, you can either feel sorry for yourself or treat what has happened as a gift. Everything is either an opportunity to grow or an obstacle to keep you from growing. You get to choose.',\n",
       " 'Don’t let the noise of others’ opinions drown out your own inner voice.',\n",
       " 'History, despite its wrenching pain, cannot be unlived, but if faced with courage, need not be lived again.',\n",
       " \"How old would you be if you didn't know how old you are?\",\n",
       " 'Leadership is a privilege to better the lives of others. It is not an opportunity to satisfy personal greed.',\n",
       " 'If you have good thoughts they will shine out of your face like sunbeams and you will always look lovely.',\n",
       " 'Never cut a tree down in the wintertime. Never make a negative decision in the low time. Never make your most important decisions when you are in your worst moods. Wait. Be patient. The storm will pass. The spring will come.',\n",
       " 'An optimist stays up until midnight to see the new year in. A pessimist stays up to make sure the old year leaves.',\n",
       " 'When the going gets weird, the weird turn pro.',\n",
       " \"When a train goes through a tunnel and it gets dark, you don't throw away the ticket and jump off. You sit still and trust the engineer.\",\n",
       " 'If you think you are too small to make a difference, try sleeping with a mosquito.',\n",
       " \"God doesn't require us to succeed, he only requires that you try.\",\n",
       " 'Change your thoughts and you change your world.']"
      ]
     },
     "execution_count": 200,
     "metadata": {},
     "output_type": "execute_result"
    }
   ],
   "source": [
    "Quotes"
   ]
  },
  {
   "cell_type": "code",
   "execution_count": 202,
   "id": "d91d985c",
   "metadata": {},
   "outputs": [],
   "source": [
    "author = driver.find_elements(By.XPATH,'//div[@class=\"author\"]')\n",
    "\n",
    "for i in author[0:100]:\n",
    "    location = i.text\n",
    "    Author.append(location)"
   ]
  },
  {
   "cell_type": "code",
   "execution_count": 203,
   "id": "8b3f8420",
   "metadata": {},
   "outputs": [
    {
     "data": {
      "text/plain": [
       "['Michael Porter',\n",
       " 'Golda Meir',\n",
       " 'Theodore Roosevelt',\n",
       " 'Nelson Mandela',\n",
       " 'Erma Bombeck',\n",
       " 'John Wooden',\n",
       " 'Albert Einstein',\n",
       " 'Frank Zappa',\n",
       " 'William Faulkner',\n",
       " 'Will Rogers',\n",
       " 'Jimmy Carter',\n",
       " 'Albert Einstein',\n",
       " 'Abraham Lincoln',\n",
       " 'Steven Weinberg',\n",
       " 'Franklin D. Roosevelt',\n",
       " 'Albert Einstein',\n",
       " 'Maya Angelou',\n",
       " 'Mark Twain',\n",
       " 'Theodore Roosevelt',\n",
       " 'Michael Jackson',\n",
       " 'Martin Luther King, Jr.',\n",
       " 'C. S. Lewis',\n",
       " 'Theodore Roosevelt',\n",
       " 'Mark Twain',\n",
       " 'Abraham Lincoln',\n",
       " 'Ruth Graham',\n",
       " 'C. S. Lewis',\n",
       " 'Groucho Marx',\n",
       " 'John Lennon',\n",
       " 'Barbara Bush',\n",
       " 'Albert Einstein',\n",
       " 'Francis Chan',\n",
       " 'Henry Ford',\n",
       " 'Victor Hugo',\n",
       " 'Abu Bakr',\n",
       " 'Zig Ziglar',\n",
       " 'Winston Churchill',\n",
       " 'Zig Ziglar',\n",
       " 'John F. Kennedy',\n",
       " 'Dwight D. Eisenhower',\n",
       " 'Winston Churchill',\n",
       " 'Albert Einstein',\n",
       " 'Willie Nelson',\n",
       " 'Johnny Cash',\n",
       " 'Marie Curie',\n",
       " 'Maya Angelou',\n",
       " 'Amy Bloom',\n",
       " 'Zig Ziglar',\n",
       " 'John Lennon',\n",
       " 'Thomas Sowell',\n",
       " 'Max Lucado',\n",
       " 'Martin Luther King, Jr.',\n",
       " 'Salma Hayek',\n",
       " 'Thomas Sowell',\n",
       " 'Martin Luther King, Jr.',\n",
       " 'Douglas MacArthur',\n",
       " 'Douglas MacArthur',\n",
       " 'George S. Patton',\n",
       " 'Corrie Ten Boom',\n",
       " 'Jim Courier',\n",
       " 'Zig Ziglar',\n",
       " 'Edgar Allan Poe',\n",
       " 'Zig Ziglar',\n",
       " 'Stephen Covey',\n",
       " 'Pablo Neruda',\n",
       " 'Joe Frazier',\n",
       " 'Bill Cosby',\n",
       " 'Lewis Grizzard',\n",
       " 'Les Brown',\n",
       " 'Meister Eckhart',\n",
       " 'Muhammad Ali',\n",
       " 'John C. Maxwell',\n",
       " 'Thomas A. Edison',\n",
       " 'Neil Armstrong',\n",
       " 'Rose Kennedy',\n",
       " 'Martin Luther',\n",
       " 'Ronald Reagan',\n",
       " 'Andrew Murray',\n",
       " 'Arianna Huffington',\n",
       " 'Anne Frank',\n",
       " 'Corrie Ten Boom',\n",
       " 'Robin Williams',\n",
       " 'Nelson Mandela',\n",
       " 'Walt Disney',\n",
       " 'John F. Kennedy',\n",
       " 'Mark Twain',\n",
       " 'John Stott',\n",
       " 'Wayne Dyer',\n",
       " 'Steve Jobs',\n",
       " 'Maya Angelou',\n",
       " 'Satchel Paige',\n",
       " 'Mwai Kibaki',\n",
       " 'Roald Dahl',\n",
       " 'Robert H. Schuller',\n",
       " 'Bill Vaughan',\n",
       " 'Hunter S. Thompson',\n",
       " 'Corrie Ten Boom',\n",
       " 'Dalai Lama',\n",
       " 'Mother Teresa',\n",
       " 'Norman Vincent Peale']"
      ]
     },
     "execution_count": 203,
     "metadata": {},
     "output_type": "execute_result"
    }
   ],
   "source": [
    "Author"
   ]
  },
  {
   "cell_type": "code",
   "execution_count": 204,
   "id": "b66450b2",
   "metadata": {},
   "outputs": [],
   "source": [
    "typeofquotes = driver.find_elements(By.XPATH,'//div[@class=\"tags\"]')\n",
    "\n",
    "for i in typeofquotes[0:100]:\n",
    "    location = i.text\n",
    "    TypeofQuote.append(location)"
   ]
  },
  {
   "cell_type": "code",
   "execution_count": 205,
   "id": "c78a6839",
   "metadata": {},
   "outputs": [
    {
     "data": {
      "text/plain": [
       "['Essence, Deep Thought, Transcendentalism',\n",
       " 'Inspiration, Past, Trying',\n",
       " 'Country, Peace, War',\n",
       " 'Inspirational, Motivational, Death',\n",
       " '4th Of July, Food, Patriotic',\n",
       " 'Inspirational, Success, Basketball',\n",
       " 'Strong, Revenge, Intelligent',\n",
       " 'Inspirational, Teacher, Religious',\n",
       " 'Truth, Honesty, Lying',\n",
       " 'Funny, Reading, Learning',\n",
       " 'Strong, Thoughtful, Compassion',\n",
       " 'Love, Funny, Life',\n",
       " 'Freedom, Men, Democracies Have',\n",
       " 'God, Religious, Atheist',\n",
       " 'Respect, Kindness, Character',\n",
       " 'Inspirational, Motivational, Change',\n",
       " 'Inspirational, Life, Inspiring',\n",
       " 'Love, Inspirational, Life',\n",
       " 'Inspiring, Country, 4th Of July',\n",
       " 'Inspirational, Dream, Hate',\n",
       " 'Love, Inspirational, Life',\n",
       " 'Forgiveness, God, Christian',\n",
       " 'Country, Men, Squares',\n",
       " 'Inspirational, Relationship, Positive',\n",
       " 'Inspirational, Motivational, Positive',\n",
       " 'Love, Friendship, Relationship',\n",
       " 'Faith, God, Christian',\n",
       " 'Art, Freedom, Political Will',\n",
       " 'Inspirational, Life, Faith',\n",
       " 'Inspirational, Life, Meaningful',\n",
       " 'Happiness, Time, Clever',\n",
       " 'Inspirational, Inspiring, Success',\n",
       " 'Love, Inspirational, Life',\n",
       " 'Music, Sound And Music, Musical Life',\n",
       " 'Adversity, Blow, Action',\n",
       " 'Positive, Thinking Of You, Attitude',\n",
       " 'Inspirational, Funny, Life',\n",
       " 'Inspirational, Life, Motivational',\n",
       " 'Inspirational, Memorial Day, Freedom',\n",
       " 'Freedom, Patriotic, Vaccines',\n",
       " 'Philosophy, Ignorance, Democratic Socialism',\n",
       " 'Inspirational, Dance, Education',\n",
       " 'Life, Change, Positive',\n",
       " 'Life, Bullying, Mistake',\n",
       " 'Life, Nature, Children',\n",
       " 'Inspirational, Life, Motivational',\n",
       " 'Marriage, Love You, Long',\n",
       " 'Inspirational, Motivational, Success',\n",
       " 'Love, Inspirational, Life',\n",
       " 'Diversity, Important, Liberty',\n",
       " 'Inspirational, God, Faith',\n",
       " 'Inspirational, Motivational, Inspiring',\n",
       " 'Beauty, Love Yourself, Your Beautiful',\n",
       " 'Business, Stupid, Government',\n",
       " 'Inspirational, Life, Motivational',\n",
       " 'Peace, Military, War',\n",
       " 'Inspirational, Leadership, Confidence',\n",
       " 'Motivational, Military, War',\n",
       " 'Christian, Jesus, Confusing',\n",
       " 'Inspirational, Success, Sports',\n",
       " 'Inspirational, Motivational, Success',\n",
       " 'Inspirational, Life, Clever',\n",
       " 'Inspirational, Death, Failure',\n",
       " 'Inspirational, Life, Motivational',\n",
       " 'Inspiring, Hope, Spring',\n",
       " 'Motivational, Running, People',\n",
       " 'Inspirational, Motivational, Positive',\n",
       " 'Summer, Food, Garden',\n",
       " 'Inspirational, Life, Motivational',\n",
       " 'Inspirational, Life, Thank You',\n",
       " 'Funny, Sports, Jobs',\n",
       " 'Being Strong, Wisdom, Stay Strong',\n",
       " 'Inspirational, Motivational, Positive',\n",
       " 'Motivational, Positive, Moon',\n",
       " 'Time, Pain, Get Well',\n",
       " 'Life, God, Christian',\n",
       " 'President, Needs, Purpose',\n",
       " 'God, Faith, Christian',\n",
       " 'Women, Failure, Successful',\n",
       " 'Inspirational, Morning, Kindness',\n",
       " 'Hiding Place, Ability, Baby Boom',\n",
       " 'Inspirational, Change, Philosophy',\n",
       " 'Love, Inspirational, Life',\n",
       " 'Inspirational, Family, Inspiring',\n",
       " 'Inspirational, Success, Courage',\n",
       " 'Inspirational, Life, Motivational',\n",
       " 'Christian, Vision, Missionary',\n",
       " 'Inspirational, Positive, Regret',\n",
       " 'Love, Inspirational, Life',\n",
       " 'Inspirational, Life, Encouragement',\n",
       " 'Happy Birthday, Baseball, Fun',\n",
       " 'Leadership, Power, Opportunity',\n",
       " 'Inspirational, Life, Positive',\n",
       " 'Inspirational, Encouraging, Patience',\n",
       " 'New Year, Fun, New Beginnings',\n",
       " 'Music, Sports, Hunting',\n",
       " 'Trust, Encouraging, Uplifting',\n",
       " 'Inspirational, Funny, Change',\n",
       " 'Success, God, Mother',\n",
       " 'Inspirational, Motivational, Change']"
      ]
     },
     "execution_count": 205,
     "metadata": {},
     "output_type": "execute_result"
    }
   ],
   "source": [
    "TypeofQuote"
   ]
  },
  {
   "cell_type": "code",
   "execution_count": 235,
   "id": "35973810",
   "metadata": {},
   "outputs": [],
   "source": [
    "#Answer8\n",
    "driver = webdriver.Chrome(r'C:\\Users\\Rakesh\\Downloads\\chromedriver.exe')"
   ]
  },
  {
   "cell_type": "code",
   "execution_count": 236,
   "id": "5241ce4c",
   "metadata": {},
   "outputs": [],
   "source": [
    "driver.get(\"https://www.jagranjosh.com\")"
   ]
  },
  {
   "cell_type": "code",
   "execution_count": 238,
   "id": "1f08f437",
   "metadata": {},
   "outputs": [],
   "source": [
    "designator = driver.find_element(By.XPATH,\"/html/body/div/div[1]/div/div[1]/div/div[3]/div/div/div/form/div[2]/div/input[1]\")\n",
    "designator.send_keys('List of all Prime Ministers of India')"
   ]
  },
  {
   "cell_type": "code",
   "execution_count": 239,
   "id": "91cd8fed",
   "metadata": {},
   "outputs": [],
   "source": [
    "search = driver.find_element(By.XPATH,\"/html/body/div/div[1]/div/div[1]/div/div[3]/div/div/div/form/div[2]/div/input[2]\")\n",
    "search.click()"
   ]
  },
  {
   "cell_type": "code",
   "execution_count": 240,
   "id": "fd73b265",
   "metadata": {},
   "outputs": [],
   "source": [
    "search1 = driver.find_element(By.XPATH,\"/html/body/div[1]/div[3]/div/div[2]/div/div[2]/div/div[2]/h2/a\")\n",
    "search1.click()"
   ]
  },
  {
   "cell_type": "code",
   "execution_count": 241,
   "id": "cac15c25",
   "metadata": {},
   "outputs": [],
   "source": [
    "NAME = []\n",
    "BORN_DEAD = []\n",
    "TERMofYEAR = []"
   ]
  },
  {
   "cell_type": "code",
   "execution_count": 242,
   "id": "1c09c2fc",
   "metadata": {},
   "outputs": [],
   "source": [
    "name = driver.find_elements(By.TAG_NAME,\"p\")\n",
    "for i in name[0:100]:\n",
    "    location = i.text\n",
    "    NAME.append(location)"
   ]
  },
  {
   "cell_type": "code",
   "execution_count": 243,
   "id": "7142bf93",
   "metadata": {},
   "outputs": [
    {
     "data": {
      "text/plain": [
       "['List of all Prime Ministers of India: Narendra Modi is the current and 14th Prime Minister of India. He would become the fourth Indian Prime Minister to serve two consecutive terms on the post and would be the first non-Congress Prime Minister of India who would complete two consecutive terms. The Prime Minister of India is the head of the government of the Republic of India. Executive authority is vested in the Prime Minister and their chosen Council of Ministers, though the President of India is the Constitutional, nominal and ceremonial head of the State. ',\n",
       " 'In this article, we have mentioned the list of all the Prime Ministers of India along with their term starting from 1947 to 2022. ',\n",
       " 'READ |',\n",
       " 'List of Movies to Learn English: Watch These English Movies To Learn The Language Quickly!',\n",
       " 'Yogi Adityanath Cabinet 2.0: Check List of Ministers, Ministers of State (Independent Charge), and Ministers of State',\n",
       " 'List of all the Prime Ministers of India from 1947-2021',\n",
       " 'S.N.',\n",
       " 'Name',\n",
       " 'Born-Dead',\n",
       " 'Term of office',\n",
       " 'Remark',\n",
       " '1.',\n",
       " 'Jawahar Lal Nehru',\n",
       " '(1889–1964)',\n",
       " '15 August 1947 to 27 May 1964',\n",
       " '16 years, 286 days',\n",
       " 'The first prime minister of India and the longest-serving PM of India, the first to die in office.',\n",
       " '2.',\n",
       " 'Gulzarilal Nanda (Acting)',\n",
       " '(1898-1998)',\n",
       " '27 May 1964 to 9 June 1964,',\n",
       " '13 days',\n",
       " 'First acting PM of India',\n",
       " '3.',\n",
       " 'Lal Bahadur Shastri',\n",
       " '(1904–1966)',\n",
       " '9 June 1964 to 11 January 1966',\n",
       " '1 year, 216 days',\n",
       " \"He has given the slogan of 'Jai Jawan Jai Kisan' during the Indo-Pak war of 1965\",\n",
       " '4. ',\n",
       " 'Gulzari Lal Nanda  (Acting)',\n",
       " '(1898-1998)',\n",
       " '11 January 1966 to 24 January 1966',\n",
       " '13 days',\n",
       " '-',\n",
       " '5.',\n",
       " 'Indira Gandhi',\n",
       " '(1917–1984)',\n",
       " '24 January 1966 to 24 March 1977',\n",
       " '11 years, 59 days',\n",
       " 'First female Prime Minister of India',\n",
       " '6.',\n",
       " 'Morarji Desai',\n",
       " '(1896–1995)',\n",
       " '24 March 1977 to  28 July 1979 ',\n",
       " '2 year, 126 days',\n",
       " 'Oldest to become PM (81 years old) and first to resign from office',\n",
       " '7.',\n",
       " 'Charan Singh',\n",
       " '(1902–1987)',\n",
       " '28 July 1979 to 14 January 1980',\n",
       " '170 days',\n",
       " 'Only PM who did not face the Parliament',\n",
       " '8.',\n",
       " 'Indira Gandhi',\n",
       " '(1917–1984)',\n",
       " '14 January 1980 to 31 October 1984',\n",
       " '4 years, 291 days',\n",
       " 'The first lady who served as PM for the second term',\n",
       " '9.',\n",
       " 'Rajiv Gandhi',\n",
       " '(1944–1991)',\n",
       " '31 October 1984 to 2 December 1989',\n",
       " '5 years, 32 days',\n",
       " 'Youngest to become PM (40 years old)',\n",
       " '10.',\n",
       " 'V. P. Singh',\n",
       " '(1931–2008)',\n",
       " '2 December 1989 to 10 November 1990',\n",
       " '343 days',\n",
       " 'First PM to step down after a vote of no confidence',\n",
       " '11.',\n",
       " 'Chandra Shekhar',\n",
       " '(1927–2007)',\n",
       " '10 November 1990 to 21 June 1991',\n",
       " '223 days',\n",
       " 'He belongs to  Samajwadi Janata Party',\n",
       " '12.',\n",
       " 'P. V. Narasimha Rao',\n",
       " '(1921–2004)',\n",
       " '21 June 1991 to 16 May 1996',\n",
       " '4 years, 330 days',\n",
       " 'First PM from south India',\n",
       " '13.',\n",
       " 'Atal Bihari Vajpayee',\n",
       " '(1924- 2018)',\n",
       " '16 May 1996 to 1 June 1996',\n",
       " '16 days',\n",
       " 'PM for shortest tenure',\n",
       " '14.',\n",
       " 'H. D. Deve Gowda',\n",
       " '(born 1933)',\n",
       " '1 June 1996 to 21 April 1997',\n",
       " '324 days',\n",
       " 'He belongs to  Janata Dal',\n",
       " '15.',\n",
       " 'Inder Kumar Gujral',\n",
       " '(1919–2012)',\n",
       " '21 April 1997 to 19 March 1998 ',\n",
       " '332 days']"
      ]
     },
     "execution_count": 243,
     "metadata": {},
     "output_type": "execute_result"
    }
   ],
   "source": [
    "NAME"
   ]
  },
  {
   "cell_type": "code",
   "execution_count": 265,
   "id": "b1dcc3e9",
   "metadata": {},
   "outputs": [],
   "source": [
    "#Answer 10\n",
    "\n",
    "driver = webdriver.Chrome(r'C:\\Users\\Rakesh\\Downloads\\chromedriver.exe')"
   ]
  },
  {
   "cell_type": "code",
   "execution_count": 266,
   "id": "3fb46855",
   "metadata": {},
   "outputs": [],
   "source": [
    "driver.get(\"https://www.motor1.com\")"
   ]
  },
  {
   "cell_type": "code",
   "execution_count": 269,
   "id": "87509793",
   "metadata": {},
   "outputs": [],
   "source": [
    "designator = driver.find_element(By.XPATH,\"/html/body/div[3]/div[6]/form/div/input\")\n",
    "designator.send_keys('50 most expensive cars in the world')"
   ]
  },
  {
   "cell_type": "code",
   "execution_count": 270,
   "id": "30748ffa",
   "metadata": {},
   "outputs": [],
   "source": [
    "search = driver.find_element(By.XPATH,\"/html/body/div[3]/div[6]/form/input[2]\")\n",
    "search.click()"
   ]
  },
  {
   "cell_type": "code",
   "execution_count": 271,
   "id": "1001f376",
   "metadata": {},
   "outputs": [],
   "source": [
    "search1 = driver.find_element(By.XPATH,\"/html/body/div[3]/div[9]/div/div[1]/div/div/div[1]/div/div[1]/h3/a\")\n",
    "search1.click()"
   ]
  },
  {
   "cell_type": "code",
   "execution_count": 272,
   "id": "b4b0ccf9",
   "metadata": {},
   "outputs": [],
   "source": [
    "Car_Name = []\n",
    "Car_Price = []"
   ]
  },
  {
   "cell_type": "code",
   "execution_count": 282,
   "id": "9bfa898f",
   "metadata": {},
   "outputs": [],
   "source": [
    "carname = driver.find_elements(By.CLASS_NAME,'subheader')\n",
    "for i in carname[0:50]:\n",
    "    location = i.text\n",
    "    Car_Name.append(location)\n",
    "  \n",
    "\n"
   ]
  },
  {
   "cell_type": "code",
   "execution_count": 283,
   "id": "1ffca634",
   "metadata": {},
   "outputs": [
    {
     "data": {
      "text/plain": [
       "['De Tomaso P72',\n",
       " 'Ferrari LaFerrari',\n",
       " 'Pagani Huayra',\n",
       " 'McLaren Elva',\n",
       " 'Czinger 21C',\n",
       " 'Ferrari Monza',\n",
       " 'Gordon Murray T.33',\n",
       " 'Koenigsegg Gemera',\n",
       " 'Zenvo TSR-S',\n",
       " 'Hennessey Venom F5',\n",
       " 'Bentley Bacalar',\n",
       " 'Hispano Suiza Carmen Boulogne',\n",
       " 'Bentley Mulliner Batur',\n",
       " 'Deus Vayanne',\n",
       " 'SSC Tuatara',\n",
       " 'Lotus Evija',\n",
       " 'Aston Martin Vulcan',\n",
       " 'Delage D12',\n",
       " 'McLaren Speedtail',\n",
       " 'Rimac Nevera',\n",
       " 'Pagani Utopia',\n",
       " 'Pininfarina Battista',\n",
       " 'Ferrari FXX K Evo',\n",
       " 'Gordon Murray T.50',\n",
       " 'Lamborghini Countach',\n",
       " 'Mercedes-AMG Project One',\n",
       " 'Aston Martin Victor',\n",
       " 'Hennessey Venom F5 Roadster',\n",
       " 'Koenigsegg Jesko',\n",
       " 'Aston Martin Valkyrie',\n",
       " 'W Motors Lykan Hypersport',\n",
       " 'McLaren Solus',\n",
       " 'Pagani Huayra Roadster BC',\n",
       " 'Bugatti Chiron Pur Sport',\n",
       " 'Lamborghini Sian',\n",
       " 'Koenigsegg CC850',\n",
       " 'Bugatti Chiron Super Sport 300+',\n",
       " 'Lamborghini Veneno',\n",
       " 'Bugatti Bolide',\n",
       " 'Bugatti Mistral',\n",
       " 'Pagani Huayra Imola',\n",
       " 'Bugatti Divo',\n",
       " 'SP Automotive Chaos',\n",
       " 'Pagani Codalunga',\n",
       " 'Mercedes-Maybach Exelero',\n",
       " 'Bugatti Centodieci',\n",
       " 'Bugatti Chiron Profilée',\n",
       " 'Rolls-Royce Sweptail',\n",
       " 'Bugatti La Voiture Noire',\n",
       " 'Rolls-Royce Boat Tail*']"
      ]
     },
     "execution_count": 283,
     "metadata": {},
     "output_type": "execute_result"
    }
   ],
   "source": [
    "Car_Name"
   ]
  },
  {
   "cell_type": "code",
   "execution_count": 295,
   "id": "ce286350",
   "metadata": {},
   "outputs": [],
   "source": [
    "price = driver.find_elements(By.TAG_NAME,'strong')\n",
    "for i in price[0:50]:\n",
    "    location= i.text\n",
    "    Car_Price.append(location)"
   ]
  },
  {
   "cell_type": "code",
   "execution_count": 296,
   "id": "bca20277",
   "metadata": {},
   "outputs": [
    {
     "data": {
      "text/plain": [
       "['Price: $1.4 Million',\n",
       " 'De Tomaso P72',\n",
       " 'Ferrari LaFerrari',\n",
       " 'Pagani Huayra',\n",
       " 'McLaren Elva',\n",
       " 'Czinger 21C',\n",
       " 'Ferrari Monza',\n",
       " 'Gordon Murray T.33',\n",
       " 'Koenigsegg Gemera',\n",
       " 'Zenvo TSR-S',\n",
       " 'Hennessey Venom F5',\n",
       " 'Bentley Bacalar',\n",
       " 'Hispano Suiza Carmen Boulogne',\n",
       " 'Bentley Mulliner Batur',\n",
       " 'Deus Vayanne',\n",
       " 'SSC Tuatara',\n",
       " 'Lotus Evija',\n",
       " 'Aston Martin Vulcan',\n",
       " 'Delage D12',\n",
       " 'McLaren Speedtail',\n",
       " 'Rimac Nevera',\n",
       " 'Pagani Utopia',\n",
       " 'Pininfarina Battista',\n",
       " 'Ferrari FXX K Evo',\n",
       " 'Gordon Murray T.50',\n",
       " 'Lamborghini Countach',\n",
       " 'Mercedes-AMG Project One',\n",
       " 'Aston Martin Victor',\n",
       " 'Hennessey Venom F5 Roadster',\n",
       " 'Koenigsegg Jesko',\n",
       " 'Aston Martin Valkyrie',\n",
       " 'W Motors Lykan Hypersport',\n",
       " 'McLaren Solus',\n",
       " 'Pagani Huayra Roadster BC',\n",
       " 'Bugatti Chiron Pur Sport',\n",
       " 'Lamborghini Sian',\n",
       " 'Koenigsegg CC850',\n",
       " 'Bugatti Chiron Super Sport 300+',\n",
       " 'Lamborghini Veneno',\n",
       " 'Bugatti Bolide',\n",
       " 'Bugatti Mistral',\n",
       " 'Pagani Huayra Imola',\n",
       " 'Bugatti Divo',\n",
       " 'SP Automotive Chaos',\n",
       " 'Pagani Codalunga',\n",
       " 'Mercedes-Maybach Exelero',\n",
       " 'Bugatti Centodieci',\n",
       " 'Bugatti Chiron Profilée',\n",
       " 'Rolls-Royce Sweptail',\n",
       " 'Bugatti La Voiture Noire',\n",
       " 'Rolls-Royce Boat Tail*',\n",
       " 'Price: $1.3 Million',\n",
       " 'Price: $1.4 Million',\n",
       " 'Price: $1.4 Million',\n",
       " '',\n",
       " 'Price: $1.7 Million',\n",
       " 'Price: $1.7 Million',\n",
       " 'Price: $1.7 Million',\n",
       " 'Price: $1.7 Million',\n",
       " 'Price: $1.7 Million',\n",
       " 'Price: $1.7 Million',\n",
       " 'Price: $1.8 Million',\n",
       " 'Price: $1.9 Million',\n",
       " 'Price: $1.9 Million',\n",
       " 'Price: $2.0 Million',\n",
       " 'Price: $2.0 Million',\n",
       " 'Price: $2.0 Million*',\n",
       " 'Price: $2.1 Million',\n",
       " 'Price: $2.3 Million',\n",
       " 'Price: $2.3 Million',\n",
       " 'Price: $2.3 Million',\n",
       " 'Price: $2.4 Million',\n",
       " 'Price: $2.5 Million',\n",
       " 'Price: $2.5 Million',\n",
       " 'Price: $2.6 Million',\n",
       " 'Price: $2.6 Million',\n",
       " 'Price: $2.6 Million',\n",
       " 'Price: $2.7 Million',\n",
       " 'Price: $3.0 Million',\n",
       " '$3.0 Million',\n",
       " 'Price: $3.0 Million',\n",
       " 'Price: $3.2 Million',\n",
       " 'Price: $3.4 Million',\n",
       " '$3.5 Million',\n",
       " 'Price: $3.5 Million',\n",
       " 'Price: $3.6 Million',\n",
       " 'Price: $3.6 million',\n",
       " 'Price: $3.7 Million',\n",
       " 'Price: $3.9 Million',\n",
       " 'Price: $4.5 Million',\n",
       " 'Price: $4.7 Million',\n",
       " 'Price: $5.0 Million',\n",
       " 'Price: $5.4 Million',\n",
       " 'Price: $5.8 Million',\n",
       " 'Price: $6.4 Million',\n",
       " 'Price: $7.4 Million',\n",
       " 'Price: $8.0 Million',\n",
       " 'Price: $9.0 Million',\n",
       " 'Price: $10.8 Million',\n",
       " 'Price: $12.8 Million',\n",
       " 'Price: $13.4 Million',\n",
       " 'Price: $1.3 Million',\n",
       " 'Price: $1.4 Million',\n",
       " 'Price: $1.4 Million',\n",
       " '',\n",
       " 'Price: $1.7 Million',\n",
       " 'Price: $1.7 Million',\n",
       " 'Price: $1.7 Million',\n",
       " 'Price: $1.7 Million',\n",
       " 'Price: $1.7 Million',\n",
       " 'Price: $1.7 Million',\n",
       " 'Price: $1.8 Million',\n",
       " 'Price: $1.9 Million',\n",
       " 'Price: $1.9 Million',\n",
       " 'Price: $2.0 Million',\n",
       " 'Price: $2.0 Million',\n",
       " 'Price: $2.0 Million*',\n",
       " 'Price: $2.1 Million',\n",
       " 'Price: $2.3 Million',\n",
       " 'Price: $2.3 Million',\n",
       " 'Price: $2.3 Million',\n",
       " 'Price: $2.4 Million',\n",
       " 'Price: $2.5 Million',\n",
       " 'Price: $2.5 Million',\n",
       " 'Price: $2.6 Million',\n",
       " 'Price: $2.6 Million',\n",
       " 'Price: $2.6 Million',\n",
       " 'Price: $2.7 Million',\n",
       " 'Price: $3.0 Million',\n",
       " '$3.0 Million',\n",
       " 'Price: $3.0 Million',\n",
       " 'Price: $3.2 Million',\n",
       " 'Price: $3.4 Million',\n",
       " '$3.5 Million',\n",
       " 'Price: $3.5 Million',\n",
       " 'Price: $3.6 Million',\n",
       " 'Price: $3.6 million',\n",
       " 'Price: $3.7 Million',\n",
       " 'Price: $3.9 Million',\n",
       " 'Price: $4.5 Million',\n",
       " 'Price: $4.7 Million',\n",
       " 'Price: $5.0 Million',\n",
       " 'Price: $5.4 Million',\n",
       " 'Price: $5.8 Million',\n",
       " 'Price: $6.4 Million',\n",
       " 'Price: $7.4 Million',\n",
       " 'Price: $8.0 Million',\n",
       " 'Price: $9.0 Million',\n",
       " 'Price: $10.8 Million',\n",
       " 'Price: $12.8 Million',\n",
       " 'Price: $13.4 Million',\n",
       " 'Price: $1.3 Million',\n",
       " 'Price: $1.4 Million',\n",
       " 'Price: $1.4 Million',\n",
       " '',\n",
       " 'Price: $1.7 Million',\n",
       " 'Price: $1.7 Million',\n",
       " 'Price: $1.7 Million',\n",
       " 'Price: $1.7 Million',\n",
       " 'Price: $1.7 Million',\n",
       " 'Price: $1.7 Million',\n",
       " 'Price: $1.8 Million',\n",
       " 'Price: $1.9 Million',\n",
       " 'Price: $1.9 Million',\n",
       " 'Price: $2.0 Million',\n",
       " 'Price: $2.0 Million',\n",
       " 'Price: $2.0 Million*',\n",
       " 'Price: $2.1 Million',\n",
       " 'Price: $2.3 Million',\n",
       " 'Price: $2.3 Million',\n",
       " 'Price: $2.3 Million',\n",
       " 'Price: $2.4 Million',\n",
       " 'Price: $2.5 Million',\n",
       " 'Price: $2.5 Million',\n",
       " 'Price: $2.6 Million',\n",
       " 'Price: $2.6 Million',\n",
       " 'Price: $2.6 Million',\n",
       " 'Price: $2.7 Million',\n",
       " 'Price: $3.0 Million',\n",
       " '$3.0 Million',\n",
       " 'Price: $3.0 Million',\n",
       " 'Price: $3.2 Million',\n",
       " 'Price: $3.4 Million',\n",
       " '$3.5 Million',\n",
       " 'Price: $3.5 Million',\n",
       " 'Price: $3.6 Million',\n",
       " 'Price: $3.6 million',\n",
       " 'Price: $3.7 Million',\n",
       " 'Price: $3.9 Million',\n",
       " 'Price: $4.5 Million',\n",
       " 'Price: $4.7 Million',\n",
       " 'Price: $5.0 Million',\n",
       " 'Price: $5.4 Million',\n",
       " 'Price: $5.8 Million',\n",
       " 'Price: $6.4 Million',\n",
       " 'Price: $7.4 Million',\n",
       " 'Price: $8.0 Million',\n",
       " 'Price: $9.0 Million',\n",
       " 'Price: $10.8 Million',\n",
       " 'Price: $12.8 Million',\n",
       " 'Price: $13.4 Million']"
      ]
     },
     "execution_count": 296,
     "metadata": {},
     "output_type": "execute_result"
    }
   ],
   "source": [
    "Car_Price"
   ]
  },
  {
   "cell_type": "code",
   "execution_count": null,
   "id": "0b2edf2c",
   "metadata": {},
   "outputs": [],
   "source": []
  },
  {
   "cell_type": "code",
   "execution_count": null,
   "id": "543ca67e",
   "metadata": {},
   "outputs": [],
   "source": []
  }
 ],
 "metadata": {
  "kernelspec": {
   "display_name": "Python 3 (ipykernel)",
   "language": "python",
   "name": "python3"
  },
  "language_info": {
   "codemirror_mode": {
    "name": "ipython",
    "version": 3
   },
   "file_extension": ".py",
   "mimetype": "text/x-python",
   "name": "python",
   "nbconvert_exporter": "python",
   "pygments_lexer": "ipython3",
   "version": "3.9.12"
  }
 },
 "nbformat": 4,
 "nbformat_minor": 5
}
